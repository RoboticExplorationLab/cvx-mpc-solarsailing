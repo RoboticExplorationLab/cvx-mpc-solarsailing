{
 "cells": [
  {
   "cell_type": "code",
   "execution_count": 1,
   "metadata": {},
   "outputs": [
    {
     "name": "stderr",
     "output_type": "stream",
     "text": [
      "\u001b[32m\u001b[1m  Activating\u001b[22m\u001b[39m project at `~/Research/cvx-mpc-solarsailing`\n"
     ]
    }
   ],
   "source": [
    "#control set approximation\n",
    "\n",
    "#import the packages from the local environment\n",
    "using Pkg\n",
    "Pkg.activate(joinpath(@__DIR__, \"..\"))"
   ]
  },
  {
   "cell_type": "code",
   "execution_count": 2,
   "metadata": {},
   "outputs": [],
   "source": [
    "using LinearAlgebra \n",
    "using ForwardDiff\n",
    "using SatelliteDynamics\n",
    "using Plots"
   ]
  },
  {
   "cell_type": "code",
   "execution_count": 6,
   "metadata": {},
   "outputs": [
    {
     "data": {
      "text/plain": [
       "ThreeBodySystem_EarthMoon (generic function with 1 method)"
      ]
     },
     "metadata": {},
     "output_type": "display_data"
    }
   ],
   "source": [
    "include(\"../src/parameters.jl\")"
   ]
  },
  {
   "cell_type": "code",
   "execution_count": 3,
   "metadata": {},
   "outputs": [
    {
     "data": {
      "text/plain": [
       "1368"
      ]
     },
     "metadata": {},
     "output_type": "display_data"
    }
   ],
   "source": [
    "#Solar Sail Parameters\n",
    "#area\n",
    "A = 10 #m2\n",
    "W = 1368 #solar flux at the sun earth distance (units: J/s m2)"
   ]
  },
  {
   "cell_type": "code",
   "execution_count": 4,
   "metadata": {},
   "outputs": [
    {
     "data": {
      "text/plain": [
       "3-element Vector{Float64}:\n",
       " -1.3270621770866199e8\n",
       " -6.332026815757073e7\n",
       " -6.406895089769898e6"
      ]
     },
     "metadata": {},
     "output_type": "display_data"
    }
   ],
   "source": [
    "#arbitrary sun position\n",
    "\n",
    "sun_position = \n",
    "[-1.3270621770866199e8,\n",
    "-6.332026815757073e7,\n",
    "-6.406895089769898e6]"
   ]
  },
  {
   "cell_type": "code",
   "execution_count": 10,
   "metadata": {},
   "outputs": [
    {
     "data": {
      "text/plain": [
       "3-element Vector{Float64}:\n",
       " 431249.946141646\n",
       "      0.0\n",
       "   2286.7765081086145"
      ]
     },
     "metadata": {},
     "output_type": "display_data"
    }
   ],
   "source": [
    "#arbitrary satellite position\n",
    "satellite_position = \n",
    "[431249.946141646,\n",
    "0.0,\n",
    "2286.7765081086145]"
   ]
  },
  {
   "cell_type": "code",
   "execution_count": 11,
   "metadata": {},
   "outputs": [
    {
     "data": {
      "text/plain": [
       "ThreeBodySystem(0.01215, 0.98785, 0.01215, 4.0, [-0.01215, 0.0, 0.0], [0.98785, 0.0, 0.0], 385000.0, 4.349129868518112, 88523.45449302066, 20354.29089708545, [0.8369180073169304, 0.0, 0.0, 0.0, 0.0, 0.0], [1.1556799130947355, 0.0, 0.0, 0.0, 0.0, 0.0])"
      ]
     },
     "metadata": {},
     "output_type": "display_data"
    }
   ],
   "source": [
    "Earth_Moon = ThreeBodySystem_EarthMoon()"
   ]
  },
  {
   "cell_type": "code",
   "execution_count": 12,
   "metadata": {},
   "outputs": [
    {
     "data": {
      "text/plain": [
       "3-element Vector{Float64}:\n",
       " 1.3313746765480363e8\n",
       " 6.332026815757073e7\n",
       " 6.409181866278007e6"
      ]
     },
     "metadata": {},
     "output_type": "display_data"
    }
   ],
   "source": [
    "#vector from the sun to the satellite. this is the direction of the maximum control authority\n",
    "sun_satellite_position =  satellite_position - sun_position "
   ]
  },
  {
   "cell_type": "code",
   "execution_count": 15,
   "metadata": {},
   "outputs": [
    {
     "data": {
      "text/plain": [
       "677.6491822969106"
      ]
     },
     "metadata": {},
     "output_type": "display_data"
    }
   ],
   "source": [
    "gamma = ((2*A*W/C_LIGHT)*(norm(sun_position - Earth_Moon.pose_m1*Earth_Moon.position_scale)/norm(sun_satellite_position))^2)*(86400^2/1000)"
   ]
  },
  {
   "cell_type": "code",
   "execution_count": 14,
   "metadata": {},
   "outputs": [
    {
     "data": {
      "text/plain": [
       "3-element Vector{Float64}:\n",
       " -0.01215\n",
       "  0.0\n",
       "  0.0"
      ]
     },
     "metadata": {},
     "output_type": "display_data"
    }
   ],
   "source": [
    "Earth_Moon.pose_m1 "
   ]
  },
  {
   "cell_type": "code",
   "execution_count": 16,
   "metadata": {},
   "outputs": [
    {
     "data": {
      "text/plain": [
       "3-element Vector{Int64}:\n",
       " 0\n",
       " 0\n",
       " 1"
      ]
     },
     "metadata": {},
     "output_type": "display_data"
    }
   ],
   "source": [
    "#assume the direction of the sun is [0,0,1] to simplify the plot\n",
    "sun_dir = [0,0,1]"
   ]
  },
  {
   "cell_type": "code",
   "execution_count": 17,
   "metadata": {},
   "outputs": [
    {
     "data": {
      "text/plain": [
       "solar_sail_control (generic function with 1 method)"
      ]
     },
     "metadata": {},
     "output_type": "display_data"
    }
   ],
   "source": [
    "#non linear equation for the control set\n",
    "#sample control directions\n",
    "\n",
    "function solar_sail_control(optimal_u_norm)\n",
    "\n",
    "    cos_angle = dot(sun_dir, optimal_u_norm)\n",
    "\n",
    "    actual_control = gamma*(cos_angle)^2*optimal_u_norm\n",
    "\n",
    "    return actual_control \n",
    "\n",
    "end"
   ]
  },
  {
   "cell_type": "code",
   "execution_count": 18,
   "metadata": {},
   "outputs": [
    {
     "data": {
      "text/plain": [
       "100-element LinRange{Float64, Int64}:\n",
       " 0.0, 0.0317333, 0.0634665, 0.0951998, …, 3.04639, 3.07813, 3.10986, 3.14159"
      ]
     },
     "metadata": {},
     "output_type": "display_data"
    }
   ],
   "source": [
    "N_samples = 100\n",
    "\n",
    "sample_angles = LinRange(0, pi, N_samples)"
   ]
  },
  {
   "cell_type": "code",
   "execution_count": 19,
   "metadata": {},
   "outputs": [
    {
     "data": {
      "text/plain": [
       "3×100 Matrix{Float64}:\n",
       " 0.0  0.0  0.0  0.0  0.0  0.0  0.0  0.0  …  0.0  0.0  0.0  0.0  0.0  0.0  0.0\n",
       " 0.0  0.0  0.0  0.0  0.0  0.0  0.0  0.0     0.0  0.0  0.0  0.0  0.0  0.0  0.0\n",
       " 0.0  0.0  0.0  0.0  0.0  0.0  0.0  0.0     0.0  0.0  0.0  0.0  0.0  0.0  0.0"
      ]
     },
     "metadata": {},
     "output_type": "display_data"
    }
   ],
   "source": [
    "all_ssail_ctrl = zeros(3, N_samples)"
   ]
  },
  {
   "cell_type": "code",
   "execution_count": 20,
   "metadata": {},
   "outputs": [],
   "source": [
    "for i=1:N_samples\n",
    "\n",
    "    y = cos(sample_angles[i])\n",
    "    z = sin(sample_angles[i])\n",
    "\n",
    "    sample = [0, y, z]\n",
    "\n",
    "    sample_norm = sample/norm(sample)\n",
    "\n",
    "    ssail_ctrl = solar_sail_control(sample_norm)\n",
    "\n",
    "    all_ssail_ctrl[:,i] = ssail_ctrl\n",
    "\n",
    "end"
   ]
  },
  {
   "cell_type": "code",
   "execution_count": 21,
   "metadata": {},
   "outputs": [
    {
     "data": {
      "text/plain": [
       "284.72721660805377"
      ]
     },
     "metadata": {},
     "output_type": "display_data"
    }
   ],
   "source": [
    "#take the mean to find the centroid of the ellipse\n",
    "y_center = sum(all_ssail_ctrl[2,:])/N_samples\n",
    "\n",
    "z_center = sum(all_ssail_ctrl[3,:])/N_samples"
   ]
  },
  {
   "cell_type": "code",
   "execution_count": 22,
   "metadata": {},
   "outputs": [
    {
     "data": {
      "image/png": "[encoded data removed]",
      "image/svg+xml": [
       "<?xml version=\"1.0\" encoding=\"utf-8\"?>\n",
       "<svg xmlns=\"http://www.w3.org/2000/svg\" xmlns:xlink=\"http://www.w3.org/1999/xlink\" width=\"600\" height=\"400\" viewBox=\"0 0 2400 1600\">\n",
       "<defs>\n",
       "  <clipPath id=\"clip570\">\n",
       "    <rect x=\"0\" y=\"0\" width=\"2400\" height=\"1600\"/>\n",
       "  </clipPath>\n",
       "</defs>\n",
       "<path clip-path=\"url(#clip570)\" d=\"M0 1600 L2400 1600 L2400 0 L0 0  Z\" fill=\"#ffffff\" fill-rule=\"evenodd\" fill-opacity=\"1\"/>\n",
       "<defs>\n",
       "  <clipPath id=\"clip571\">\n",
       "    <rect x=\"480\" y=\"0\" width=\"1681\" height=\"1600\"/>\n",
       "  </clipPath>\n",
       "</defs>\n",
       "<path clip-path=\"url(#clip570)\" d=\"M235.283 1423.18 L2352.76 1423.18 L2352.76 123.472 L235.283 123.472  Z\" fill=\"#ffffff\" fill-rule=\"evenodd\" fill-opacity=\"1\"/>\n",
       "<defs>\n",
       "  <clipPath id=\"clip572\">\n",
       "    <rect x=\"235\" y=\"123\" width=\"2118\" height=\"1301\"/>\n",
       "  </clipPath>\n",
       "</defs>\n",
       "<polyline clip-path=\"url(#clip572)\" style=\"stroke:#000000; stroke-linecap:round; stroke-linejoin:round; stroke-width:2; stroke-opacity:0.1; fill:none\" points=\"569.985,1423.18 569.985,123.472 \"/>\n",
       "<polyline clip-path=\"url(#clip572)\" style=\"stroke:#000000; stroke-linecap:round; stroke-linejoin:round; stroke-width:2; stroke-opacity:0.1; fill:none\" points=\"932.002,1423.18 932.002,123.472 \"/>\n",
       "<polyline clip-path=\"url(#clip572)\" style=\"stroke:#000000; stroke-linecap:round; stroke-linejoin:round; stroke-width:2; stroke-opacity:0.1; fill:none\" points=\"1294.02,1423.18 1294.02,123.472 \"/>\n",
       "<polyline clip-path=\"url(#clip572)\" style=\"stroke:#000000; stroke-linecap:round; stroke-linejoin:round; stroke-width:2; stroke-opacity:0.1; fill:none\" points=\"1656.04,1423.18 1656.04,123.472 \"/>\n",
       "<polyline clip-path=\"url(#clip572)\" style=\"stroke:#000000; stroke-linecap:round; stroke-linejoin:round; stroke-width:2; stroke-opacity:0.1; fill:none\" points=\"2018.05,1423.18 2018.05,123.472 \"/>\n",
       "<polyline clip-path=\"url(#clip572)\" style=\"stroke:#000000; stroke-linecap:round; stroke-linejoin:round; stroke-width:2; stroke-opacity:0.1; fill:none\" points=\"235.283,1386.4 2352.76,1386.4 \"/>\n",
       "<polyline clip-path=\"url(#clip572)\" style=\"stroke:#000000; stroke-linecap:round; stroke-linejoin:round; stroke-width:2; stroke-opacity:0.1; fill:none\" points=\"235.283,1205.39 2352.76,1205.39 \"/>\n",
       "<polyline clip-path=\"url(#clip572)\" style=\"stroke:#000000; stroke-linecap:round; stroke-linejoin:round; stroke-width:2; stroke-opacity:0.1; fill:none\" points=\"235.283,1024.38 2352.76,1024.38 \"/>\n",
       "<polyline clip-path=\"url(#clip572)\" style=\"stroke:#000000; stroke-linecap:round; stroke-linejoin:round; stroke-width:2; stroke-opacity:0.1; fill:none\" points=\"235.283,843.37 2352.76,843.37 \"/>\n",
       "<polyline clip-path=\"url(#clip572)\" style=\"stroke:#000000; stroke-linecap:round; stroke-linejoin:round; stroke-width:2; stroke-opacity:0.1; fill:none\" points=\"235.283,662.362 2352.76,662.362 \"/>\n",
       "<polyline clip-path=\"url(#clip572)\" style=\"stroke:#000000; stroke-linecap:round; stroke-linejoin:round; stroke-width:2; stroke-opacity:0.1; fill:none\" points=\"235.283,481.353 2352.76,481.353 \"/>\n",
       "<polyline clip-path=\"url(#clip572)\" style=\"stroke:#000000; stroke-linecap:round; stroke-linejoin:round; stroke-width:2; stroke-opacity:0.1; fill:none\" points=\"235.283,300.345 2352.76,300.345 \"/>\n",
       "<polyline clip-path=\"url(#clip570)\" style=\"stroke:#000000; stroke-linecap:round; stroke-linejoin:round; stroke-width:4; stroke-opacity:1; fill:none\" points=\"235.283,1423.18 2352.76,1423.18 \"/>\n",
       "<polyline clip-path=\"url(#clip570)\" style=\"stroke:#000000; stroke-linecap:round; stroke-linejoin:round; stroke-width:4; stroke-opacity:1; fill:none\" points=\"569.985,1423.18 569.985,1404.28 \"/>\n",
       "<polyline clip-path=\"url(#clip570)\" style=\"stroke:#000000; stroke-linecap:round; stroke-linejoin:round; stroke-width:4; stroke-opacity:1; fill:none\" points=\"932.002,1423.18 932.002,1404.28 \"/>\n",
       "<polyline clip-path=\"url(#clip570)\" style=\"stroke:#000000; stroke-linecap:round; stroke-linejoin:round; stroke-width:4; stroke-opacity:1; fill:none\" points=\"1294.02,1423.18 1294.02,1404.28 \"/>\n",
       "<polyline clip-path=\"url(#clip570)\" style=\"stroke:#000000; stroke-linecap:round; stroke-linejoin:round; stroke-width:4; stroke-opacity:1; fill:none\" points=\"1656.04,1423.18 1656.04,1404.28 \"/>\n",
       "<polyline clip-path=\"url(#clip570)\" style=\"stroke:#000000; stroke-linecap:round; stroke-linejoin:round; stroke-width:4; stroke-opacity:1; fill:none\" points=\"2018.05,1423.18 2018.05,1404.28 \"/>\n",
       "<path clip-path=\"url(#clip570)\" d=\"M508.967 1468.75 L538.643 1468.75 L538.643 1472.69 L508.967 1472.69 L508.967 1468.75 Z\" fill=\"#000000\" fill-rule=\"nonzero\" fill-opacity=\"1\" /><path clip-path=\"url(#clip570)\" d=\"M561.583 1455.09 L549.777 1473.54 L561.583 1473.54 L561.583 1455.09 M560.356 1451.02 L566.235 1451.02 L566.235 1473.54 L571.166 1473.54 L571.166 1477.43 L566.235 1477.43 L566.235 1485.58 L561.583 1485.58 L561.583 1477.43 L545.981 1477.43 L545.981 1472.92 L560.356 1451.02 Z\" fill=\"#000000\" fill-rule=\"nonzero\" fill-opacity=\"1\" /><path clip-path=\"url(#clip570)\" d=\"M588.897 1454.1 Q585.286 1454.1 583.458 1457.66 Q581.652 1461.2 581.652 1468.33 Q581.652 1475.44 583.458 1479.01 Q585.286 1482.55 588.897 1482.55 Q592.532 1482.55 594.337 1479.01 Q596.166 1475.44 596.166 1468.33 Q596.166 1461.2 594.337 1457.66 Q592.532 1454.1 588.897 1454.1 M588.897 1450.39 Q594.708 1450.39 597.763 1455 Q600.842 1459.58 600.842 1468.33 Q600.842 1477.06 597.763 1481.67 Q594.708 1486.25 588.897 1486.25 Q583.087 1486.25 580.009 1481.67 Q576.953 1477.06 576.953 1468.33 Q576.953 1459.58 580.009 1455 Q583.087 1450.39 588.897 1450.39 Z\" fill=\"#000000\" fill-rule=\"nonzero\" fill-opacity=\"1\" /><path clip-path=\"url(#clip570)\" d=\"M619.059 1454.1 Q615.448 1454.1 613.619 1457.66 Q611.814 1461.2 611.814 1468.33 Q611.814 1475.44 613.619 1479.01 Q615.448 1482.55 619.059 1482.55 Q622.694 1482.55 624.499 1479.01 Q626.328 1475.44 626.328 1468.33 Q626.328 1461.2 624.499 1457.66 Q622.694 1454.1 619.059 1454.1 M619.059 1450.39 Q624.869 1450.39 627.925 1455 Q631.004 1459.58 631.004 1468.33 Q631.004 1477.06 627.925 1481.67 Q624.869 1486.25 619.059 1486.25 Q613.249 1486.25 610.17 1481.67 Q607.115 1477.06 607.115 1468.33 Q607.115 1459.58 610.17 1455 Q613.249 1450.39 619.059 1450.39 Z\" fill=\"#000000\" fill-rule=\"nonzero\" fill-opacity=\"1\" /><path clip-path=\"url(#clip570)\" d=\"M870.984 1468.75 L900.66 1468.75 L900.66 1472.69 L870.984 1472.69 L870.984 1468.75 Z\" fill=\"#000000\" fill-rule=\"nonzero\" fill-opacity=\"1\" /><path clip-path=\"url(#clip570)\" d=\"M914.78 1481.64 L931.1 1481.64 L931.1 1485.58 L909.155 1485.58 L909.155 1481.64 Q911.817 1478.89 916.401 1474.26 Q921.007 1469.61 922.188 1468.27 Q924.433 1465.74 925.313 1464.01 Q926.215 1462.25 926.215 1460.56 Q926.215 1457.8 924.271 1456.07 Q922.35 1454.33 919.248 1454.33 Q917.049 1454.33 914.595 1455.09 Q912.165 1455.86 909.387 1457.41 L909.387 1452.69 Q912.211 1451.55 914.665 1450.97 Q917.118 1450.39 919.155 1450.39 Q924.526 1450.39 927.72 1453.08 Q930.914 1455.77 930.914 1460.26 Q930.914 1462.39 930.104 1464.31 Q929.317 1466.2 927.211 1468.8 Q926.632 1469.47 923.53 1472.69 Q920.428 1475.88 914.78 1481.64 Z\" fill=\"#000000\" fill-rule=\"nonzero\" fill-opacity=\"1\" /><path clip-path=\"url(#clip570)\" d=\"M950.914 1454.1 Q947.303 1454.1 945.475 1457.66 Q943.669 1461.2 943.669 1468.33 Q943.669 1475.44 945.475 1479.01 Q947.303 1482.55 950.914 1482.55 Q954.549 1482.55 956.354 1479.01 Q958.183 1475.44 958.183 1468.33 Q958.183 1461.2 956.354 1457.66 Q954.549 1454.1 950.914 1454.1 M950.914 1450.39 Q956.725 1450.39 959.78 1455 Q962.859 1459.58 962.859 1468.33 Q962.859 1477.06 959.78 1481.67 Q956.725 1486.25 950.914 1486.25 Q945.104 1486.25 942.026 1481.67 Q938.97 1477.06 938.97 1468.33 Q938.97 1459.58 942.026 1455 Q945.104 1450.39 950.914 1450.39 Z\" fill=\"#000000\" fill-rule=\"nonzero\" fill-opacity=\"1\" /><path clip-path=\"url(#clip570)\" d=\"M981.076 1454.1 Q977.465 1454.1 975.636 1457.66 Q973.831 1461.2 973.831 1468.33 Q973.831 1475.44 975.636 1479.01 Q977.465 1482.55 981.076 1482.55 Q984.71 1482.55 986.516 1479.01 Q988.345 1475.44 988.345 1468.33 Q988.345 1461.2 986.516 1457.66 Q984.71 1454.1 981.076 1454.1 M981.076 1450.39 Q986.886 1450.39 989.942 1455 Q993.021 1459.58 993.021 1468.33 Q993.021 1477.06 989.942 1481.67 Q986.886 1486.25 981.076 1486.25 Q975.266 1486.25 972.187 1481.67 Q969.132 1477.06 969.132 1468.33 Q969.132 1459.58 972.187 1455 Q975.266 1450.39 981.076 1450.39 Z\" fill=\"#000000\" fill-rule=\"nonzero\" fill-opacity=\"1\" /><path clip-path=\"url(#clip570)\" d=\"M1294.02 1454.1 Q1290.41 1454.1 1288.58 1457.66 Q1286.77 1461.2 1286.77 1468.33 Q1286.77 1475.44 1288.58 1479.01 Q1290.41 1482.55 1294.02 1482.55 Q1297.65 1482.55 1299.46 1479.01 Q1301.29 1475.44 1301.29 1468.33 Q1301.29 1461.2 1299.46 1457.66 Q1297.65 1454.1 1294.02 1454.1 M1294.02 1450.39 Q1299.83 1450.39 1302.89 1455 Q1305.96 1459.58 1305.96 1468.33 Q1305.96 1477.06 1302.89 1481.67 Q1299.83 1486.25 1294.02 1486.25 Q1288.21 1486.25 1285.13 1481.67 Q1282.07 1477.06 1282.07 1468.33 Q1282.07 1459.58 1285.13 1455 Q1288.21 1450.39 1294.02 1450.39 Z\" fill=\"#000000\" fill-rule=\"nonzero\" fill-opacity=\"1\" /><path clip-path=\"url(#clip570)\" d=\"M1619.73 1481.64 L1636.05 1481.64 L1636.05 1485.58 L1614.1 1485.58 L1614.1 1481.64 Q1616.77 1478.89 1621.35 1474.26 Q1625.96 1469.61 1627.14 1468.27 Q1629.38 1465.74 1630.26 1464.01 Q1631.16 1462.25 1631.16 1460.56 Q1631.16 1457.8 1629.22 1456.07 Q1627.3 1454.33 1624.2 1454.33 Q1622 1454.33 1619.54 1455.09 Q1617.11 1455.86 1614.34 1457.41 L1614.34 1452.69 Q1617.16 1451.55 1619.61 1450.97 Q1622.07 1450.39 1624.1 1450.39 Q1629.47 1450.39 1632.67 1453.08 Q1635.86 1455.77 1635.86 1460.26 Q1635.86 1462.39 1635.05 1464.31 Q1634.27 1466.2 1632.16 1468.8 Q1631.58 1469.47 1628.48 1472.69 Q1625.38 1475.88 1619.73 1481.64 Z\" fill=\"#000000\" fill-rule=\"nonzero\" fill-opacity=\"1\" /><path clip-path=\"url(#clip570)\" d=\"M1655.86 1454.1 Q1652.25 1454.1 1650.42 1457.66 Q1648.62 1461.2 1648.62 1468.33 Q1648.62 1475.44 1650.42 1479.01 Q1652.25 1482.55 1655.86 1482.55 Q1659.5 1482.55 1661.3 1479.01 Q1663.13 1475.44 1663.13 1468.33 Q1663.13 1461.2 1661.3 1457.66 Q1659.5 1454.1 1655.86 1454.1 M1655.86 1450.39 Q1661.67 1450.39 1664.73 1455 Q1667.81 1459.58 1667.81 1468.33 Q1667.81 1477.06 1664.73 1481.67 Q1661.67 1486.25 1655.86 1486.25 Q1650.05 1486.25 1646.97 1481.67 Q1643.92 1477.06 1643.92 1468.33 Q1643.92 1459.58 1646.97 1455 Q1650.05 1450.39 1655.86 1450.39 Z\" fill=\"#000000\" fill-rule=\"nonzero\" fill-opacity=\"1\" /><path clip-path=\"url(#clip570)\" d=\"M1686.02 1454.1 Q1682.41 1454.1 1680.58 1457.66 Q1678.78 1461.2 1678.78 1468.33 Q1678.78 1475.44 1680.58 1479.01 Q1682.41 1482.55 1686.02 1482.55 Q1689.66 1482.55 1691.46 1479.01 Q1693.29 1475.44 1693.29 1468.33 Q1693.29 1461.2 1691.46 1457.66 Q1689.66 1454.1 1686.02 1454.1 M1686.02 1450.39 Q1691.83 1450.39 1694.89 1455 Q1697.97 1459.58 1697.97 1468.33 Q1697.97 1477.06 1694.89 1481.67 Q1691.83 1486.25 1686.02 1486.25 Q1680.21 1486.25 1677.14 1481.67 Q1674.08 1477.06 1674.08 1468.33 Q1674.08 1459.58 1677.14 1455 Q1680.21 1450.39 1686.02 1450.39 Z\" fill=\"#000000\" fill-rule=\"nonzero\" fill-opacity=\"1\" /><path clip-path=\"url(#clip570)\" d=\"M1991.14 1455.09 L1979.34 1473.54 L1991.14 1473.54 L1991.14 1455.09 M1989.92 1451.02 L1995.8 1451.02 L1995.8 1473.54 L2000.73 1473.54 L2000.73 1477.43 L1995.8 1477.43 L1995.8 1485.58 L1991.14 1485.58 L1991.14 1477.43 L1975.54 1477.43 L1975.54 1472.92 L1989.92 1451.02 Z\" fill=\"#000000\" fill-rule=\"nonzero\" fill-opacity=\"1\" /><path clip-path=\"url(#clip570)\" d=\"M2018.46 1454.1 Q2014.85 1454.1 2013.02 1457.66 Q2011.21 1461.2 2011.21 1468.33 Q2011.21 1475.44 2013.02 1479.01 Q2014.85 1482.55 2018.46 1482.55 Q2022.09 1482.55 2023.9 1479.01 Q2025.73 1475.44 2025.73 1468.33 Q2025.73 1461.2 2023.9 1457.66 Q2022.09 1454.1 2018.46 1454.1 M2018.46 1450.39 Q2024.27 1450.39 2027.32 1455 Q2030.4 1459.58 2030.4 1468.33 Q2030.4 1477.06 2027.32 1481.67 Q2024.27 1486.25 2018.46 1486.25 Q2012.65 1486.25 2009.57 1481.67 Q2006.51 1477.06 2006.51 1468.33 Q2006.51 1459.58 2009.57 1455 Q2012.65 1450.39 2018.46 1450.39 Z\" fill=\"#000000\" fill-rule=\"nonzero\" fill-opacity=\"1\" /><path clip-path=\"url(#clip570)\" d=\"M2048.62 1454.1 Q2045.01 1454.1 2043.18 1457.66 Q2041.37 1461.2 2041.37 1468.33 Q2041.37 1475.44 2043.18 1479.01 Q2045.01 1482.55 2048.62 1482.55 Q2052.25 1482.55 2054.06 1479.01 Q2055.89 1475.44 2055.89 1468.33 Q2055.89 1461.2 2054.06 1457.66 Q2052.25 1454.1 2048.62 1454.1 M2048.62 1450.39 Q2054.43 1450.39 2057.49 1455 Q2060.56 1459.58 2060.56 1468.33 Q2060.56 1477.06 2057.49 1481.67 Q2054.43 1486.25 2048.62 1486.25 Q2042.81 1486.25 2039.73 1481.67 Q2036.68 1477.06 2036.68 1468.33 Q2036.68 1459.58 2039.73 1455 Q2042.81 1450.39 2048.62 1450.39 Z\" fill=\"#000000\" fill-rule=\"nonzero\" fill-opacity=\"1\" /><path clip-path=\"url(#clip570)\" d=\"M1295.71 1571.35 Q1293.22 1577.72 1290.87 1579.66 Q1288.51 1581.6 1284.57 1581.6 L1279.89 1581.6 L1279.89 1576.7 L1283.32 1576.7 Q1285.74 1576.7 1287.08 1575.56 Q1288.42 1574.41 1290.04 1570.14 L1291.09 1567.47 L1276.67 1532.4 L1282.88 1532.4 L1294.02 1560.28 L1305.16 1532.4 L1311.37 1532.4 L1295.71 1571.35 Z\" fill=\"#000000\" fill-rule=\"nonzero\" fill-opacity=\"1\" /><polyline clip-path=\"url(#clip570)\" style=\"stroke:#000000; stroke-linecap:round; stroke-linejoin:round; stroke-width:4; stroke-opacity:1; fill:none\" points=\"235.283,1423.18 235.283,123.472 \"/>\n",
       "<polyline clip-path=\"url(#clip570)\" style=\"stroke:#000000; stroke-linecap:round; stroke-linejoin:round; stroke-width:4; stroke-opacity:1; fill:none\" points=\"235.283,1386.4 254.18,1386.4 \"/>\n",
       "<polyline clip-path=\"url(#clip570)\" style=\"stroke:#000000; stroke-linecap:round; stroke-linejoin:round; stroke-width:4; stroke-opacity:1; fill:none\" points=\"235.283,1205.39 254.18,1205.39 \"/>\n",
       "<polyline clip-path=\"url(#clip570)\" style=\"stroke:#000000; stroke-linecap:round; stroke-linejoin:round; stroke-width:4; stroke-opacity:1; fill:none\" points=\"235.283,1024.38 254.18,1024.38 \"/>\n",
       "<polyline clip-path=\"url(#clip570)\" style=\"stroke:#000000; stroke-linecap:round; stroke-linejoin:round; stroke-width:4; stroke-opacity:1; fill:none\" points=\"235.283,843.37 254.18,843.37 \"/>\n",
       "<polyline clip-path=\"url(#clip570)\" style=\"stroke:#000000; stroke-linecap:round; stroke-linejoin:round; stroke-width:4; stroke-opacity:1; fill:none\" points=\"235.283,662.362 254.18,662.362 \"/>\n",
       "<polyline clip-path=\"url(#clip570)\" style=\"stroke:#000000; stroke-linecap:round; stroke-linejoin:round; stroke-width:4; stroke-opacity:1; fill:none\" points=\"235.283,481.353 254.18,481.353 \"/>\n",
       "<polyline clip-path=\"url(#clip570)\" style=\"stroke:#000000; stroke-linecap:round; stroke-linejoin:round; stroke-width:4; stroke-opacity:1; fill:none\" points=\"235.283,300.345 254.18,300.345 \"/>\n",
       "<path clip-path=\"url(#clip570)\" d=\"M187.338 1372.19 Q183.727 1372.19 181.899 1375.76 Q180.093 1379.3 180.093 1386.43 Q180.093 1393.54 181.899 1397.1 Q183.727 1400.64 187.338 1400.64 Q190.973 1400.64 192.778 1397.1 Q194.607 1393.54 194.607 1386.43 Q194.607 1379.3 192.778 1375.76 Q190.973 1372.19 187.338 1372.19 M187.338 1368.49 Q193.149 1368.49 196.204 1373.1 Q199.283 1377.68 199.283 1386.43 Q199.283 1395.16 196.204 1399.76 Q193.149 1404.35 187.338 1404.35 Q181.528 1404.35 178.45 1399.76 Q175.394 1395.16 175.394 1386.43 Q175.394 1377.68 178.45 1373.1 Q181.528 1368.49 187.338 1368.49 Z\" fill=\"#000000\" fill-rule=\"nonzero\" fill-opacity=\"1\" /><path clip-path=\"url(#clip570)\" d=\"M117.825 1218.73 L125.464 1218.73 L125.464 1192.37 L117.154 1194.03 L117.154 1189.77 L125.418 1188.11 L130.093 1188.11 L130.093 1218.73 L137.732 1218.73 L137.732 1222.67 L117.825 1222.67 L117.825 1218.73 Z\" fill=\"#000000\" fill-rule=\"nonzero\" fill-opacity=\"1\" /><path clip-path=\"url(#clip570)\" d=\"M157.177 1191.19 Q153.566 1191.19 151.737 1194.75 Q149.931 1198.29 149.931 1205.42 Q149.931 1212.53 151.737 1216.09 Q153.566 1219.63 157.177 1219.63 Q160.811 1219.63 162.616 1216.09 Q164.445 1212.53 164.445 1205.42 Q164.445 1198.29 162.616 1194.75 Q160.811 1191.19 157.177 1191.19 M157.177 1187.48 Q162.987 1187.48 166.042 1192.09 Q169.121 1196.67 169.121 1205.42 Q169.121 1214.15 166.042 1218.76 Q162.987 1223.34 157.177 1223.34 Q151.366 1223.34 148.288 1218.76 Q145.232 1214.15 145.232 1205.42 Q145.232 1196.67 148.288 1192.09 Q151.366 1187.48 157.177 1187.48 Z\" fill=\"#000000\" fill-rule=\"nonzero\" fill-opacity=\"1\" /><path clip-path=\"url(#clip570)\" d=\"M187.338 1191.19 Q183.727 1191.19 181.899 1194.75 Q180.093 1198.29 180.093 1205.42 Q180.093 1212.53 181.899 1216.09 Q183.727 1219.63 187.338 1219.63 Q190.973 1219.63 192.778 1216.09 Q194.607 1212.53 194.607 1205.42 Q194.607 1198.29 192.778 1194.75 Q190.973 1191.19 187.338 1191.19 M187.338 1187.48 Q193.149 1187.48 196.204 1192.09 Q199.283 1196.67 199.283 1205.42 Q199.283 1214.15 196.204 1218.76 Q193.149 1223.34 187.338 1223.34 Q181.528 1223.34 178.45 1218.76 Q175.394 1214.15 175.394 1205.42 Q175.394 1196.67 178.45 1192.09 Q181.528 1187.48 187.338 1187.48 Z\" fill=\"#000000\" fill-rule=\"nonzero\" fill-opacity=\"1\" /><path clip-path=\"url(#clip570)\" d=\"M121.043 1037.72 L137.362 1037.72 L137.362 1041.66 L115.418 1041.66 L115.418 1037.72 Q118.08 1034.97 122.663 1030.34 Q127.269 1025.69 128.45 1024.34 Q130.695 1021.82 131.575 1020.08 Q132.478 1018.33 132.478 1016.64 Q132.478 1013.88 130.533 1012.14 Q128.612 1010.41 125.51 1010.41 Q123.311 1010.41 120.857 1011.17 Q118.427 1011.94 115.649 1013.49 L115.649 1008.77 Q118.473 1007.63 120.927 1007.05 Q123.38 1006.47 125.418 1006.47 Q130.788 1006.47 133.982 1009.16 Q137.177 1011.84 137.177 1016.33 Q137.177 1018.46 136.367 1020.39 Q135.579 1022.28 133.473 1024.88 Q132.894 1025.55 129.792 1028.77 Q126.691 1031.96 121.043 1037.72 Z\" fill=\"#000000\" fill-rule=\"nonzero\" fill-opacity=\"1\" /><path clip-path=\"url(#clip570)\" d=\"M157.177 1010.18 Q153.566 1010.18 151.737 1013.74 Q149.931 1017.28 149.931 1024.41 Q149.931 1031.52 151.737 1035.08 Q153.566 1038.63 157.177 1038.63 Q160.811 1038.63 162.616 1035.08 Q164.445 1031.52 164.445 1024.41 Q164.445 1017.28 162.616 1013.74 Q160.811 1010.18 157.177 1010.18 M157.177 1006.47 Q162.987 1006.47 166.042 1011.08 Q169.121 1015.66 169.121 1024.41 Q169.121 1033.14 166.042 1037.75 Q162.987 1042.33 157.177 1042.33 Q151.366 1042.33 148.288 1037.75 Q145.232 1033.14 145.232 1024.41 Q145.232 1015.66 148.288 1011.08 Q151.366 1006.47 157.177 1006.47 Z\" fill=\"#000000\" fill-rule=\"nonzero\" fill-opacity=\"1\" /><path clip-path=\"url(#clip570)\" d=\"M187.338 1010.18 Q183.727 1010.18 181.899 1013.74 Q180.093 1017.28 180.093 1024.41 Q180.093 1031.52 181.899 1035.08 Q183.727 1038.63 187.338 1038.63 Q190.973 1038.63 192.778 1035.08 Q194.607 1031.52 194.607 1024.41 Q194.607 1017.28 192.778 1013.74 Q190.973 1010.18 187.338 1010.18 M187.338 1006.47 Q193.149 1006.47 196.204 1011.08 Q199.283 1015.66 199.283 1024.41 Q199.283 1033.14 196.204 1037.75 Q193.149 1042.33 187.338 1042.33 Q181.528 1042.33 178.45 1037.75 Q175.394 1033.14 175.394 1024.41 Q175.394 1015.66 178.45 1011.08 Q181.528 1006.47 187.338 1006.47 Z\" fill=\"#000000\" fill-rule=\"nonzero\" fill-opacity=\"1\" /><path clip-path=\"url(#clip570)\" d=\"M131.181 842.016 Q134.538 842.734 136.413 845.002 Q138.311 847.271 138.311 850.604 Q138.311 855.72 134.792 858.521 Q131.274 861.322 124.793 861.322 Q122.617 861.322 120.302 860.882 Q118.01 860.465 115.556 859.609 L115.556 855.095 Q117.501 856.229 119.816 856.808 Q122.13 857.386 124.654 857.386 Q129.052 857.386 131.343 855.65 Q133.658 853.914 133.658 850.604 Q133.658 847.548 131.505 845.835 Q129.376 844.099 125.556 844.099 L121.529 844.099 L121.529 840.257 L125.742 840.257 Q129.191 840.257 131.019 838.891 Q132.848 837.502 132.848 834.91 Q132.848 832.248 130.95 830.836 Q129.075 829.4 125.556 829.4 Q123.635 829.4 121.436 829.817 Q119.237 830.234 116.598 831.113 L116.598 826.947 Q119.26 826.206 121.575 825.836 Q123.913 825.465 125.973 825.465 Q131.297 825.465 134.399 827.896 Q137.501 830.303 137.501 834.424 Q137.501 837.294 135.857 839.285 Q134.214 841.252 131.181 842.016 Z\" fill=\"#000000\" fill-rule=\"nonzero\" fill-opacity=\"1\" /><path clip-path=\"url(#clip570)\" d=\"M157.177 829.169 Q153.566 829.169 151.737 832.734 Q149.931 836.275 149.931 843.405 Q149.931 850.511 151.737 854.076 Q153.566 857.618 157.177 857.618 Q160.811 857.618 162.616 854.076 Q164.445 850.511 164.445 843.405 Q164.445 836.275 162.616 832.734 Q160.811 829.169 157.177 829.169 M157.177 825.465 Q162.987 825.465 166.042 830.072 Q169.121 834.655 169.121 843.405 Q169.121 852.132 166.042 856.738 Q162.987 861.322 157.177 861.322 Q151.366 861.322 148.288 856.738 Q145.232 852.132 145.232 843.405 Q145.232 834.655 148.288 830.072 Q151.366 825.465 157.177 825.465 Z\" fill=\"#000000\" fill-rule=\"nonzero\" fill-opacity=\"1\" /><path clip-path=\"url(#clip570)\" d=\"M187.338 829.169 Q183.727 829.169 181.899 832.734 Q180.093 836.275 180.093 843.405 Q180.093 850.511 181.899 854.076 Q183.727 857.618 187.338 857.618 Q190.973 857.618 192.778 854.076 Q194.607 850.511 194.607 843.405 Q194.607 836.275 192.778 832.734 Q190.973 829.169 187.338 829.169 M187.338 825.465 Q193.149 825.465 196.204 830.072 Q199.283 834.655 199.283 843.405 Q199.283 852.132 196.204 856.738 Q193.149 861.322 187.338 861.322 Q181.528 861.322 178.45 856.738 Q175.394 852.132 175.394 843.405 Q175.394 834.655 178.45 830.072 Q181.528 825.465 187.338 825.465 Z\" fill=\"#000000\" fill-rule=\"nonzero\" fill-opacity=\"1\" /><path clip-path=\"url(#clip570)\" d=\"M129.862 649.156 L118.056 667.605 L129.862 667.605 L129.862 649.156 M128.635 645.082 L134.515 645.082 L134.515 667.605 L139.445 667.605 L139.445 671.494 L134.515 671.494 L134.515 679.642 L129.862 679.642 L129.862 671.494 L114.26 671.494 L114.26 666.98 L128.635 645.082 Z\" fill=\"#000000\" fill-rule=\"nonzero\" fill-opacity=\"1\" /><path clip-path=\"url(#clip570)\" d=\"M157.177 648.16 Q153.566 648.16 151.737 651.725 Q149.931 655.267 149.931 662.396 Q149.931 669.503 151.737 673.068 Q153.566 676.609 157.177 676.609 Q160.811 676.609 162.616 673.068 Q164.445 669.503 164.445 662.396 Q164.445 655.267 162.616 651.725 Q160.811 648.16 157.177 648.16 M157.177 644.457 Q162.987 644.457 166.042 649.063 Q169.121 653.647 169.121 662.396 Q169.121 671.123 166.042 675.73 Q162.987 680.313 157.177 680.313 Q151.366 680.313 148.288 675.73 Q145.232 671.123 145.232 662.396 Q145.232 653.647 148.288 649.063 Q151.366 644.457 157.177 644.457 Z\" fill=\"#000000\" fill-rule=\"nonzero\" fill-opacity=\"1\" /><path clip-path=\"url(#clip570)\" d=\"M187.338 648.16 Q183.727 648.16 181.899 651.725 Q180.093 655.267 180.093 662.396 Q180.093 669.503 181.899 673.068 Q183.727 676.609 187.338 676.609 Q190.973 676.609 192.778 673.068 Q194.607 669.503 194.607 662.396 Q194.607 655.267 192.778 651.725 Q190.973 648.16 187.338 648.16 M187.338 644.457 Q193.149 644.457 196.204 649.063 Q199.283 653.647 199.283 662.396 Q199.283 671.123 196.204 675.73 Q193.149 680.313 187.338 680.313 Q181.528 680.313 178.45 675.73 Q175.394 671.123 175.394 662.396 Q175.394 653.647 178.45 649.063 Q181.528 644.457 187.338 644.457 Z\" fill=\"#000000\" fill-rule=\"nonzero\" fill-opacity=\"1\" /><path clip-path=\"url(#clip570)\" d=\"M117.061 464.073 L135.417 464.073 L135.417 468.008 L121.343 468.008 L121.343 476.481 Q122.362 476.133 123.38 475.971 Q124.399 475.786 125.418 475.786 Q131.205 475.786 134.584 478.957 Q137.964 482.129 137.964 487.545 Q137.964 493.124 134.492 496.226 Q131.019 499.305 124.7 499.305 Q122.524 499.305 120.255 498.934 Q118.01 498.564 115.603 497.823 L115.603 493.124 Q117.686 494.258 119.908 494.814 Q122.13 495.369 124.607 495.369 Q128.612 495.369 130.95 493.263 Q133.288 491.156 133.288 487.545 Q133.288 483.934 130.95 481.828 Q128.612 479.721 124.607 479.721 Q122.732 479.721 120.857 480.138 Q119.006 480.555 117.061 481.434 L117.061 464.073 Z\" fill=\"#000000\" fill-rule=\"nonzero\" fill-opacity=\"1\" /><path clip-path=\"url(#clip570)\" d=\"M157.177 467.152 Q153.566 467.152 151.737 470.717 Q149.931 474.258 149.931 481.388 Q149.931 488.494 151.737 492.059 Q153.566 495.601 157.177 495.601 Q160.811 495.601 162.616 492.059 Q164.445 488.494 164.445 481.388 Q164.445 474.258 162.616 470.717 Q160.811 467.152 157.177 467.152 M157.177 463.448 Q162.987 463.448 166.042 468.055 Q169.121 472.638 169.121 481.388 Q169.121 490.115 166.042 494.721 Q162.987 499.305 157.177 499.305 Q151.366 499.305 148.288 494.721 Q145.232 490.115 145.232 481.388 Q145.232 472.638 148.288 468.055 Q151.366 463.448 157.177 463.448 Z\" fill=\"#000000\" fill-rule=\"nonzero\" fill-opacity=\"1\" /><path clip-path=\"url(#clip570)\" d=\"M187.338 467.152 Q183.727 467.152 181.899 470.717 Q180.093 474.258 180.093 481.388 Q180.093 488.494 181.899 492.059 Q183.727 495.601 187.338 495.601 Q190.973 495.601 192.778 492.059 Q194.607 488.494 194.607 481.388 Q194.607 474.258 192.778 470.717 Q190.973 467.152 187.338 467.152 M187.338 463.448 Q193.149 463.448 196.204 468.055 Q199.283 472.638 199.283 481.388 Q199.283 490.115 196.204 494.721 Q193.149 499.305 187.338 499.305 Q181.528 499.305 178.45 494.721 Q175.394 490.115 175.394 481.388 Q175.394 472.638 178.45 468.055 Q181.528 463.448 187.338 463.448 Z\" fill=\"#000000\" fill-rule=\"nonzero\" fill-opacity=\"1\" /><path clip-path=\"url(#clip570)\" d=\"M127.593 298.481 Q124.445 298.481 122.593 300.634 Q120.765 302.787 120.765 306.537 Q120.765 310.264 122.593 312.44 Q124.445 314.592 127.593 314.592 Q130.742 314.592 132.57 312.44 Q134.422 310.264 134.422 306.537 Q134.422 302.787 132.57 300.634 Q130.742 298.481 127.593 298.481 M136.876 283.829 L136.876 288.088 Q135.117 287.255 133.311 286.815 Q131.529 286.375 129.769 286.375 Q125.14 286.375 122.686 289.5 Q120.255 292.625 119.908 298.944 Q121.274 296.93 123.334 295.866 Q125.394 294.778 127.871 294.778 Q133.08 294.778 136.089 297.949 Q139.121 301.097 139.121 306.537 Q139.121 311.861 135.973 315.079 Q132.825 318.296 127.593 318.296 Q121.598 318.296 118.427 313.713 Q115.256 309.106 115.256 300.38 Q115.256 292.185 119.144 287.324 Q123.033 282.44 129.584 282.44 Q131.343 282.44 133.126 282.787 Q134.931 283.134 136.876 283.829 Z\" fill=\"#000000\" fill-rule=\"nonzero\" fill-opacity=\"1\" /><path clip-path=\"url(#clip570)\" d=\"M157.177 286.143 Q153.566 286.143 151.737 289.708 Q149.931 293.25 149.931 300.38 Q149.931 307.486 151.737 311.051 Q153.566 314.592 157.177 314.592 Q160.811 314.592 162.616 311.051 Q164.445 307.486 164.445 300.38 Q164.445 293.25 162.616 289.708 Q160.811 286.143 157.177 286.143 M157.177 282.44 Q162.987 282.44 166.042 287.046 Q169.121 291.63 169.121 300.38 Q169.121 309.106 166.042 313.713 Q162.987 318.296 157.177 318.296 Q151.366 318.296 148.288 313.713 Q145.232 309.106 145.232 300.38 Q145.232 291.63 148.288 287.046 Q151.366 282.44 157.177 282.44 Z\" fill=\"#000000\" fill-rule=\"nonzero\" fill-opacity=\"1\" /><path clip-path=\"url(#clip570)\" d=\"M187.338 286.143 Q183.727 286.143 181.899 289.708 Q180.093 293.25 180.093 300.38 Q180.093 307.486 181.899 311.051 Q183.727 314.592 187.338 314.592 Q190.973 314.592 192.778 311.051 Q194.607 307.486 194.607 300.38 Q194.607 293.25 192.778 289.708 Q190.973 286.143 187.338 286.143 M187.338 282.44 Q193.149 282.44 196.204 287.046 Q199.283 291.63 199.283 300.38 Q199.283 309.106 196.204 313.713 Q193.149 318.296 187.338 318.296 Q181.528 318.296 178.45 313.713 Q175.394 309.106 175.394 300.38 Q175.394 291.63 178.45 287.046 Q181.528 282.44 187.338 282.44 Z\" fill=\"#000000\" fill-rule=\"nonzero\" fill-opacity=\"1\" /><path clip-path=\"url(#clip570)\" d=\"M28.3562 786.837 L28.3562 759.019 L33.7034 759.019 L59.3254 781.044 L59.3254 759.019 L64.0042 759.019 L64.0042 787.633 L58.657 787.633 L33.035 765.608 L33.035 786.837 L28.3562 786.837 Z\" fill=\"#000000\" fill-rule=\"nonzero\" fill-opacity=\"1\" /><path clip-path=\"url(#clip570)\" d=\"M831.001 14.0809 L831.001 22.0612 Q826.342 19.8332 822.211 18.7395 Q818.079 17.6457 814.23 17.6457 Q807.546 17.6457 803.9 20.2383 Q800.295 22.8309 800.295 27.611 Q800.295 31.6214 802.685 33.6873 Q805.116 35.7128 811.84 36.9686 L816.782 37.9813 Q825.937 39.7232 830.272 44.1387 Q834.647 48.5136 834.647 55.8863 Q834.647 64.6767 828.733 69.2137 Q822.859 73.7508 811.476 73.7508 Q807.182 73.7508 802.321 72.7785 Q797.5 71.8063 792.315 69.9024 L792.315 61.4765 Q797.298 64.2716 802.078 65.6895 Q806.858 67.1073 811.476 67.1073 Q818.484 67.1073 822.292 64.3527 Q826.099 61.598 826.099 56.4939 Q826.099 52.0379 823.345 49.5264 Q820.631 47.0148 814.392 45.759 L809.41 44.7868 Q800.255 42.9639 796.163 39.075 Q792.072 35.1862 792.072 28.2591 Q792.072 20.2383 797.703 15.6203 Q803.374 11.0023 813.299 11.0023 Q817.552 11.0023 821.968 11.7719 Q826.383 12.5416 831.001 14.0809 Z\" fill=\"#000000\" fill-rule=\"nonzero\" fill-opacity=\"1\" /><path clip-path=\"url(#clip570)\" d=\"M864.664 32.4315 Q858.669 32.4315 855.185 37.1306 Q851.701 41.7891 851.701 49.9314 Q851.701 58.0738 855.144 62.7728 Q858.628 67.4314 864.664 67.4314 Q870.619 67.4314 874.103 62.7323 Q877.586 58.0333 877.586 49.9314 Q877.586 41.8701 874.103 37.1711 Q870.619 32.4315 864.664 32.4315 M864.664 26.1121 Q874.386 26.1121 879.936 32.4315 Q885.486 38.7509 885.486 49.9314 Q885.486 61.0714 879.936 67.4314 Q874.386 73.7508 864.664 73.7508 Q854.901 73.7508 849.352 67.4314 Q843.842 61.0714 843.842 49.9314 Q843.842 38.7509 849.352 32.4315 Q854.901 26.1121 864.664 26.1121 Z\" fill=\"#000000\" fill-rule=\"nonzero\" fill-opacity=\"1\" /><path clip-path=\"url(#clip570)\" d=\"M897.841 9.54393 L905.295 9.54393 L905.295 72.576 L897.841 72.576 L897.841 9.54393 Z\" fill=\"#000000\" fill-rule=\"nonzero\" fill-opacity=\"1\" /><path clip-path=\"url(#clip570)\" d=\"M941.51 49.7694 Q932.476 49.7694 928.992 51.8354 Q925.509 53.9013 925.509 58.8839 Q925.509 62.8538 928.101 65.2034 Q930.734 67.5124 935.231 67.5124 Q941.429 67.5124 945.156 63.1374 Q948.923 58.7219 948.923 51.4303 L948.923 49.7694 L941.51 49.7694 M956.377 46.6907 L956.377 72.576 L948.923 72.576 L948.923 65.6895 Q946.371 69.8214 942.563 71.8063 Q938.755 73.7508 933.246 73.7508 Q926.278 73.7508 922.146 69.8619 Q918.055 65.9325 918.055 59.3701 Q918.055 51.7138 923.159 47.825 Q928.304 43.9361 938.472 43.9361 L948.923 43.9361 L948.923 43.2069 Q948.923 38.0623 945.52 35.2672 Q942.158 32.4315 936.041 32.4315 Q932.152 32.4315 928.466 33.3632 Q924.779 34.295 921.377 36.1584 L921.377 29.2718 Q925.468 27.692 929.316 26.9223 Q933.165 26.1121 936.811 26.1121 Q946.654 26.1121 951.515 31.2163 Q956.377 36.3204 956.377 46.6907 Z\" fill=\"#000000\" fill-rule=\"nonzero\" fill-opacity=\"1\" /><path clip-path=\"url(#clip570)\" d=\"M998.02 34.1734 Q996.764 33.4443 995.265 33.1202 Q993.807 32.7556 992.024 32.7556 Q985.705 32.7556 982.302 36.8875 Q978.94 40.9789 978.94 48.6757 L978.94 72.576 L971.446 72.576 L971.446 27.2059 L978.94 27.2059 L978.94 34.2544 Q981.29 30.1225 985.057 28.1376 Q988.824 26.1121 994.212 26.1121 Q994.982 26.1121 995.913 26.2337 Q996.845 26.3147 997.979 26.5172 L998.02 34.1734 Z\" fill=\"#000000\" fill-rule=\"nonzero\" fill-opacity=\"1\" /><path clip-path=\"url(#clip570)\" d=\"M1068.79 14.0809 L1068.79 22.0612 Q1064.13 19.8332 1060 18.7395 Q1055.87 17.6457 1052.02 17.6457 Q1045.33 17.6457 1041.69 20.2383 Q1038.08 22.8309 1038.08 27.611 Q1038.08 31.6214 1040.47 33.6873 Q1042.9 35.7128 1049.63 36.9686 L1054.57 37.9813 Q1063.73 39.7232 1068.06 44.1387 Q1072.43 48.5136 1072.43 55.8863 Q1072.43 64.6767 1066.52 69.2137 Q1060.65 73.7508 1049.26 73.7508 Q1044.97 73.7508 1040.11 72.7785 Q1035.29 71.8063 1030.1 69.9024 L1030.1 61.4765 Q1035.09 64.2716 1039.87 65.6895 Q1044.65 67.1073 1049.26 67.1073 Q1056.27 67.1073 1060.08 64.3527 Q1063.89 61.598 1063.89 56.4939 Q1063.89 52.0379 1061.13 49.5264 Q1058.42 47.0148 1052.18 45.759 L1047.2 44.7868 Q1038.04 42.9639 1033.95 39.075 Q1029.86 35.1862 1029.86 28.2591 Q1029.86 20.2383 1035.49 15.6203 Q1041.16 11.0023 1051.09 11.0023 Q1055.34 11.0023 1059.76 11.7719 Q1064.17 12.5416 1068.79 14.0809 Z\" fill=\"#000000\" fill-rule=\"nonzero\" fill-opacity=\"1\" /><path clip-path=\"url(#clip570)\" d=\"M1105.49 49.7694 Q1096.46 49.7694 1092.97 51.8354 Q1089.49 53.9013 1089.49 58.8839 Q1089.49 62.8538 1092.08 65.2034 Q1094.71 67.5124 1099.21 67.5124 Q1105.41 67.5124 1109.14 63.1374 Q1112.9 58.7219 1112.9 51.4303 L1112.9 49.7694 L1105.49 49.7694 M1120.36 46.6907 L1120.36 72.576 L1112.9 72.576 L1112.9 65.6895 Q1110.35 69.8214 1106.54 71.8063 Q1102.74 73.7508 1097.23 73.7508 Q1090.26 73.7508 1086.13 69.8619 Q1082.04 65.9325 1082.04 59.3701 Q1082.04 51.7138 1087.14 47.825 Q1092.28 43.9361 1102.45 43.9361 L1112.9 43.9361 L1112.9 43.2069 Q1112.9 38.0623 1109.5 35.2672 Q1106.14 32.4315 1100.02 32.4315 Q1096.13 32.4315 1092.45 33.3632 Q1088.76 34.295 1085.36 36.1584 L1085.36 29.2718 Q1089.45 27.692 1093.3 26.9223 Q1097.15 26.1121 1100.79 26.1121 Q1110.63 26.1121 1115.5 31.2163 Q1120.36 36.3204 1120.36 46.6907 Z\" fill=\"#000000\" fill-rule=\"nonzero\" fill-opacity=\"1\" /><path clip-path=\"url(#clip570)\" d=\"M1135.71 27.2059 L1143.16 27.2059 L1143.16 72.576 L1135.71 72.576 L1135.71 27.2059 M1135.71 9.54393 L1143.16 9.54393 L1143.16 18.9825 L1135.71 18.9825 L1135.71 9.54393 Z\" fill=\"#000000\" fill-rule=\"nonzero\" fill-opacity=\"1\" /><path clip-path=\"url(#clip570)\" d=\"M1158.76 9.54393 L1166.21 9.54393 L1166.21 72.576 L1158.76 72.576 L1158.76 9.54393 Z\" fill=\"#000000\" fill-rule=\"nonzero\" fill-opacity=\"1\" /><path clip-path=\"url(#clip570)\" d=\"M1200.12 12.096 L1251.28 12.096 L1251.28 18.9825 L1229.81 18.9825 L1229.81 72.576 L1221.59 72.576 L1221.59 18.9825 L1200.12 18.9825 L1200.12 12.096 Z\" fill=\"#000000\" fill-rule=\"nonzero\" fill-opacity=\"1\" /><path clip-path=\"url(#clip570)\" d=\"M1296.57 45.1919 L1296.57 72.576 L1289.12 72.576 L1289.12 45.4349 Q1289.12 38.994 1286.61 35.7938 Q1284.09 32.5936 1279.07 32.5936 Q1273.04 32.5936 1269.55 36.4419 Q1266.07 40.2903 1266.07 46.9338 L1266.07 72.576 L1258.57 72.576 L1258.57 9.54393 L1266.07 9.54393 L1266.07 34.2544 Q1268.74 30.163 1272.35 28.1376 Q1275.99 26.1121 1280.73 26.1121 Q1288.55 26.1121 1292.56 30.9732 Q1296.57 35.7938 1296.57 45.1919 Z\" fill=\"#000000\" fill-rule=\"nonzero\" fill-opacity=\"1\" /><path clip-path=\"url(#clip570)\" d=\"M1337.73 34.1734 Q1336.47 33.4443 1334.97 33.1202 Q1333.52 32.7556 1331.73 32.7556 Q1325.41 32.7556 1322.01 36.8875 Q1318.65 40.9789 1318.65 48.6757 L1318.65 72.576 L1311.15 72.576 L1311.15 27.2059 L1318.65 27.2059 L1318.65 34.2544 Q1321 30.1225 1324.77 28.1376 Q1328.53 26.1121 1333.92 26.1121 Q1334.69 26.1121 1335.62 26.2337 Q1336.55 26.3147 1337.69 26.5172 L1337.73 34.1734 Z\" fill=\"#000000\" fill-rule=\"nonzero\" fill-opacity=\"1\" /><path clip-path=\"url(#clip570)\" d=\"M1344.78 54.671 L1344.78 27.2059 L1352.23 27.2059 L1352.23 54.3874 Q1352.23 60.8284 1354.74 64.0691 Q1357.25 67.2693 1362.28 67.2693 Q1368.31 67.2693 1371.8 63.421 Q1375.32 59.5726 1375.32 52.9291 L1375.32 27.2059 L1382.77 27.2059 L1382.77 72.576 L1375.32 72.576 L1375.32 65.6084 Q1372.61 69.7404 1369 71.7658 Q1365.44 73.7508 1360.7 73.7508 Q1352.88 73.7508 1348.83 68.8897 Q1344.78 64.0286 1344.78 54.671 M1363.53 26.1121 L1363.53 26.1121 Z\" fill=\"#000000\" fill-rule=\"nonzero\" fill-opacity=\"1\" /><path clip-path=\"url(#clip570)\" d=\"M1427.05 28.5427 L1427.05 35.5912 Q1423.89 33.9709 1420.49 33.1607 Q1417.09 32.3505 1413.44 32.3505 Q1407.89 32.3505 1405.1 34.0519 Q1402.34 35.7533 1402.34 39.156 Q1402.34 41.7486 1404.33 43.2475 Q1406.31 44.7058 1412.31 46.0426 L1414.86 46.6097 Q1422.8 48.3111 1426.12 51.4303 Q1429.48 54.509 1429.48 60.0587 Q1429.48 66.3781 1424.46 70.0644 Q1419.48 73.7508 1410.73 73.7508 Q1407.08 73.7508 1403.11 73.0216 Q1399.18 72.3329 1394.81 70.9151 L1394.81 63.2184 Q1398.94 65.3654 1402.95 66.4591 Q1406.96 67.5124 1410.89 67.5124 Q1416.15 67.5124 1418.99 65.73 Q1421.83 63.9071 1421.83 60.6258 Q1421.83 57.5877 1419.76 55.9673 Q1417.73 54.3469 1410.81 52.8481 L1408.21 52.2405 Q1401.29 50.7821 1398.21 47.7845 Q1395.13 44.7463 1395.13 39.4801 Q1395.13 33.0797 1399.67 29.5959 Q1404.2 26.1121 1412.55 26.1121 Q1416.68 26.1121 1420.33 26.7198 Q1423.97 27.3274 1427.05 28.5427 Z\" fill=\"#000000\" fill-rule=\"nonzero\" fill-opacity=\"1\" /><path clip-path=\"url(#clip570)\" d=\"M1448.72 14.324 L1448.72 27.2059 L1464.08 27.2059 L1464.08 32.9987 L1448.72 32.9987 L1448.72 57.6282 Q1448.72 63.1779 1450.22 64.7578 Q1451.76 66.3376 1456.42 66.3376 L1464.08 66.3376 L1464.08 72.576 L1456.42 72.576 Q1447.79 72.576 1444.51 69.3758 Q1441.23 66.1351 1441.23 57.6282 L1441.23 32.9987 L1435.76 32.9987 L1435.76 27.2059 L1441.23 27.2059 L1441.23 14.324 L1448.72 14.324 Z\" fill=\"#000000\" fill-rule=\"nonzero\" fill-opacity=\"1\" /><path clip-path=\"url(#clip570)\" d=\"M1516.17 72.576 L1493.08 12.096 L1501.63 12.096 L1520.79 63.0159 L1539.99 12.096 L1548.5 12.096 L1525.45 72.576 L1516.17 72.576 Z\" fill=\"#000000\" fill-rule=\"nonzero\" fill-opacity=\"1\" /><path clip-path=\"url(#clip570)\" d=\"M1589.37 48.0275 L1589.37 51.6733 L1555.1 51.6733 Q1555.59 59.3701 1559.72 63.421 Q1563.89 67.4314 1571.3 67.4314 Q1575.6 67.4314 1579.61 66.3781 Q1583.66 65.3249 1587.63 63.2184 L1587.63 70.267 Q1583.62 71.9684 1579.41 72.8596 Q1575.19 73.7508 1570.86 73.7508 Q1560 73.7508 1553.64 67.4314 Q1547.32 61.1119 1547.32 50.3365 Q1547.32 39.1965 1553.32 32.6746 Q1559.35 26.1121 1569.56 26.1121 Q1578.72 26.1121 1584.02 32.0264 Q1589.37 37.9003 1589.37 48.0275 M1581.92 45.84 Q1581.84 39.7232 1578.47 36.0774 Q1575.15 32.4315 1569.64 32.4315 Q1563.4 32.4315 1559.64 35.9558 Q1555.91 39.4801 1555.34 45.8805 L1581.92 45.84 Z\" fill=\"#000000\" fill-rule=\"nonzero\" fill-opacity=\"1\" /><path clip-path=\"url(#clip570)\" d=\"M1634.25 28.9478 L1634.25 35.9153 Q1631.1 34.1734 1627.89 33.3227 Q1624.74 32.4315 1621.49 32.4315 Q1614.24 32.4315 1610.23 37.0496 Q1606.22 41.6271 1606.22 49.9314 Q1606.22 58.2358 1610.23 62.8538 Q1614.24 67.4314 1621.49 67.4314 Q1624.74 67.4314 1627.89 66.5807 Q1631.1 65.6895 1634.25 63.9476 L1634.25 70.8341 Q1631.14 72.2924 1627.77 73.0216 Q1624.45 73.7508 1620.68 73.7508 Q1610.44 73.7508 1604.4 67.3098 Q1598.36 60.8689 1598.36 49.9314 Q1598.36 38.832 1604.44 32.472 Q1610.56 26.1121 1621.17 26.1121 Q1624.61 26.1121 1627.89 26.8413 Q1631.18 27.5299 1634.25 28.9478 Z\" fill=\"#000000\" fill-rule=\"nonzero\" fill-opacity=\"1\" /><path clip-path=\"url(#clip570)\" d=\"M1654.59 14.324 L1654.59 27.2059 L1669.94 27.2059 L1669.94 32.9987 L1654.59 32.9987 L1654.59 57.6282 Q1654.59 63.1779 1656.09 64.7578 Q1657.63 66.3376 1662.29 66.3376 L1669.94 66.3376 L1669.94 72.576 L1662.29 72.576 Q1653.66 72.576 1650.38 69.3758 Q1647.1 66.1351 1647.1 57.6282 L1647.1 32.9987 L1641.63 32.9987 L1641.63 27.2059 L1647.1 27.2059 L1647.1 14.324 L1654.59 14.324 Z\" fill=\"#000000\" fill-rule=\"nonzero\" fill-opacity=\"1\" /><path clip-path=\"url(#clip570)\" d=\"M1697.33 32.4315 Q1691.33 32.4315 1687.85 37.1306 Q1684.36 41.7891 1684.36 49.9314 Q1684.36 58.0738 1687.81 62.7728 Q1691.29 67.4314 1697.33 67.4314 Q1703.28 67.4314 1706.77 62.7323 Q1710.25 58.0333 1710.25 49.9314 Q1710.25 41.8701 1706.77 37.1711 Q1703.28 32.4315 1697.33 32.4315 M1697.33 26.1121 Q1707.05 26.1121 1712.6 32.4315 Q1718.15 38.7509 1718.15 49.9314 Q1718.15 61.0714 1712.6 67.4314 Q1707.05 73.7508 1697.33 73.7508 Q1687.56 73.7508 1682.01 67.4314 Q1676.51 61.0714 1676.51 49.9314 Q1676.51 38.7509 1682.01 32.4315 Q1687.56 26.1121 1697.33 26.1121 Z\" fill=\"#000000\" fill-rule=\"nonzero\" fill-opacity=\"1\" /><path clip-path=\"url(#clip570)\" d=\"M1756.79 34.1734 Q1755.54 33.4443 1754.04 33.1202 Q1752.58 32.7556 1750.8 32.7556 Q1744.48 32.7556 1741.08 36.8875 Q1737.71 40.9789 1737.71 48.6757 L1737.71 72.576 L1730.22 72.576 L1730.22 27.2059 L1737.71 27.2059 L1737.71 34.2544 Q1740.06 30.1225 1743.83 28.1376 Q1747.6 26.1121 1752.99 26.1121 Q1753.76 26.1121 1754.69 26.2337 Q1755.62 26.3147 1756.75 26.5172 L1756.79 34.1734 Z\" fill=\"#000000\" fill-rule=\"nonzero\" fill-opacity=\"1\" /><path clip-path=\"url(#clip570)\" d=\"M1793.54 28.5427 L1793.54 35.5912 Q1790.38 33.9709 1786.97 33.1607 Q1783.57 32.3505 1779.93 32.3505 Q1774.38 32.3505 1771.58 34.0519 Q1768.83 35.7533 1768.83 39.156 Q1768.83 41.7486 1770.81 43.2475 Q1772.8 44.7058 1778.79 46.0426 L1781.34 46.6097 Q1789.28 48.3111 1792.6 51.4303 Q1795.97 54.509 1795.97 60.0587 Q1795.97 66.3781 1790.94 70.0644 Q1785.96 73.7508 1777.21 73.7508 Q1773.57 73.7508 1769.6 73.0216 Q1765.67 72.3329 1761.29 70.9151 L1761.29 63.2184 Q1765.42 65.3654 1769.43 66.4591 Q1773.44 67.5124 1777.37 67.5124 Q1782.64 67.5124 1785.48 65.73 Q1788.31 63.9071 1788.31 60.6258 Q1788.31 57.5877 1786.24 55.9673 Q1784.22 54.3469 1777.29 52.8481 L1774.7 52.2405 Q1767.77 50.7821 1764.69 47.7845 Q1761.62 44.7463 1761.62 39.4801 Q1761.62 33.0797 1766.15 29.5959 Q1770.69 26.1121 1779.03 26.1121 Q1783.17 26.1121 1786.81 26.7198 Q1790.46 27.3274 1793.54 28.5427 Z\" fill=\"#000000\" fill-rule=\"nonzero\" fill-opacity=\"1\" /><circle clip-path=\"url(#clip572)\" cx=\"1294.02\" cy=\"1386.4\" r=\"14.4\" fill=\"#009af9\" fill-rule=\"evenodd\" fill-opacity=\"1\" stroke=\"#000000\" stroke-opacity=\"1\" stroke-width=\"3.2\"/>\n",
       "<circle clip-path=\"url(#clip572)\" cx=\"1295.25\" cy=\"1386.36\" r=\"14.4\" fill=\"#009af9\" fill-rule=\"evenodd\" fill-opacity=\"1\" stroke=\"#000000\" stroke-opacity=\"1\" stroke-width=\"3.2\"/>\n",
       "<circle clip-path=\"url(#clip572)\" cx=\"1298.94\" cy=\"1386.08\" r=\"14.4\" fill=\"#009af9\" fill-rule=\"evenodd\" fill-opacity=\"1\" stroke=\"#000000\" stroke-opacity=\"1\" stroke-width=\"3.2\"/>\n",
       "<circle clip-path=\"url(#clip572)\" cx=\"1305.05\" cy=\"1385.34\" r=\"14.4\" fill=\"#009af9\" fill-rule=\"evenodd\" fill-opacity=\"1\" stroke=\"#000000\" stroke-opacity=\"1\" stroke-width=\"3.2\"/>\n",
       "<circle clip-path=\"url(#clip572)\" cx=\"1313.52\" cy=\"1383.91\" r=\"14.4\" fill=\"#009af9\" fill-rule=\"evenodd\" fill-opacity=\"1\" stroke=\"#000000\" stroke-opacity=\"1\" stroke-width=\"3.2\"/>\n",
       "<circle clip-path=\"url(#clip572)\" cx=\"1324.26\" cy=\"1381.56\" r=\"14.4\" fill=\"#009af9\" fill-rule=\"evenodd\" fill-opacity=\"1\" stroke=\"#000000\" stroke-opacity=\"1\" stroke-width=\"3.2\"/>\n",
       "<circle clip-path=\"url(#clip572)\" cx=\"1337.16\" cy=\"1378.08\" r=\"14.4\" fill=\"#009af9\" fill-rule=\"evenodd\" fill-opacity=\"1\" stroke=\"#000000\" stroke-opacity=\"1\" stroke-width=\"3.2\"/>\n",
       "<circle clip-path=\"url(#clip572)\" cx=\"1352.09\" cy=\"1373.28\" r=\"14.4\" fill=\"#009af9\" fill-rule=\"evenodd\" fill-opacity=\"1\" stroke=\"#000000\" stroke-opacity=\"1\" stroke-width=\"3.2\"/>\n",
       "<circle clip-path=\"url(#clip572)\" cx=\"1368.91\" cy=\"1366.96\" r=\"14.4\" fill=\"#009af9\" fill-rule=\"evenodd\" fill-opacity=\"1\" stroke=\"#000000\" stroke-opacity=\"1\" stroke-width=\"3.2\"/>\n",
       "<circle clip-path=\"url(#clip572)\" cx=\"1387.44\" cy=\"1358.97\" r=\"14.4\" fill=\"#009af9\" fill-rule=\"evenodd\" fill-opacity=\"1\" stroke=\"#000000\" stroke-opacity=\"1\" stroke-width=\"3.2\"/>\n",
       "<circle clip-path=\"url(#clip572)\" cx=\"1407.48\" cy=\"1349.13\" r=\"14.4\" fill=\"#009af9\" fill-rule=\"evenodd\" fill-opacity=\"1\" stroke=\"#000000\" stroke-opacity=\"1\" stroke-width=\"3.2\"/>\n",
       "<circle clip-path=\"url(#clip572)\" cx=\"1428.85\" cy=\"1337.32\" r=\"14.4\" fill=\"#009af9\" fill-rule=\"evenodd\" fill-opacity=\"1\" stroke=\"#000000\" stroke-opacity=\"1\" stroke-width=\"3.2\"/>\n",
       "<circle clip-path=\"url(#clip572)\" cx=\"1451.32\" cy=\"1323.42\" r=\"14.4\" fill=\"#009af9\" fill-rule=\"evenodd\" fill-opacity=\"1\" stroke=\"#000000\" stroke-opacity=\"1\" stroke-width=\"3.2\"/>\n",
       "<circle clip-path=\"url(#clip572)\" cx=\"1474.65\" cy=\"1307.34\" r=\"14.4\" fill=\"#009af9\" fill-rule=\"evenodd\" fill-opacity=\"1\" stroke=\"#000000\" stroke-opacity=\"1\" stroke-width=\"3.2\"/>\n",
       "<circle clip-path=\"url(#clip572)\" cx=\"1498.61\" cy=\"1289.01\" r=\"14.4\" fill=\"#009af9\" fill-rule=\"evenodd\" fill-opacity=\"1\" stroke=\"#000000\" stroke-opacity=\"1\" stroke-width=\"3.2\"/>\n",
       "<circle clip-path=\"url(#clip572)\" cx=\"1522.94\" cy=\"1268.38\" r=\"14.4\" fill=\"#009af9\" fill-rule=\"evenodd\" fill-opacity=\"1\" stroke=\"#000000\" stroke-opacity=\"1\" stroke-width=\"3.2\"/>\n",
       "<circle clip-path=\"url(#clip572)\" cx=\"1547.39\" cy=\"1245.42\" r=\"14.4\" fill=\"#009af9\" fill-rule=\"evenodd\" fill-opacity=\"1\" stroke=\"#000000\" stroke-opacity=\"1\" stroke-width=\"3.2\"/>\n",
       "<circle clip-path=\"url(#clip572)\" cx=\"1571.71\" cy=\"1220.14\" r=\"14.4\" fill=\"#009af9\" fill-rule=\"evenodd\" fill-opacity=\"1\" stroke=\"#000000\" stroke-opacity=\"1\" stroke-width=\"3.2\"/>\n",
       "<circle clip-path=\"url(#clip572)\" cx=\"1595.63\" cy=\"1192.56\" r=\"14.4\" fill=\"#009af9\" fill-rule=\"evenodd\" fill-opacity=\"1\" stroke=\"#000000\" stroke-opacity=\"1\" stroke-width=\"3.2\"/>\n",
       "<circle clip-path=\"url(#clip572)\" cx=\"1618.9\" cy=\"1162.73\" r=\"14.4\" fill=\"#009af9\" fill-rule=\"evenodd\" fill-opacity=\"1\" stroke=\"#000000\" stroke-opacity=\"1\" stroke-width=\"3.2\"/>\n",
       "<circle clip-path=\"url(#clip572)\" cx=\"1641.25\" cy=\"1130.73\" r=\"14.4\" fill=\"#009af9\" fill-rule=\"evenodd\" fill-opacity=\"1\" stroke=\"#000000\" stroke-opacity=\"1\" stroke-width=\"3.2\"/>\n",
       "<circle clip-path=\"url(#clip572)\" cx=\"1662.45\" cy=\"1096.66\" r=\"14.4\" fill=\"#009af9\" fill-rule=\"evenodd\" fill-opacity=\"1\" stroke=\"#000000\" stroke-opacity=\"1\" stroke-width=\"3.2\"/>\n",
       "<circle clip-path=\"url(#clip572)\" cx=\"1682.25\" cy=\"1060.63\" r=\"14.4\" fill=\"#009af9\" fill-rule=\"evenodd\" fill-opacity=\"1\" stroke=\"#000000\" stroke-opacity=\"1\" stroke-width=\"3.2\"/>\n",
       "<circle clip-path=\"url(#clip572)\" cx=\"1700.43\" cy=\"1022.79\" r=\"14.4\" fill=\"#009af9\" fill-rule=\"evenodd\" fill-opacity=\"1\" stroke=\"#000000\" stroke-opacity=\"1\" stroke-width=\"3.2\"/>\n",
       "<circle clip-path=\"url(#clip572)\" cx=\"1716.77\" cy=\"983.307\" r=\"14.4\" fill=\"#009af9\" fill-rule=\"evenodd\" fill-opacity=\"1\" stroke=\"#000000\" stroke-opacity=\"1\" stroke-width=\"3.2\"/>\n",
       "<circle clip-path=\"url(#clip572)\" cx=\"1731.06\" cy=\"942.364\" r=\"14.4\" fill=\"#009af9\" fill-rule=\"evenodd\" fill-opacity=\"1\" stroke=\"#000000\" stroke-opacity=\"1\" stroke-width=\"3.2\"/>\n",
       "<circle clip-path=\"url(#clip572)\" cx=\"1743.13\" cy=\"900.165\" r=\"14.4\" fill=\"#009af9\" fill-rule=\"evenodd\" fill-opacity=\"1\" stroke=\"#000000\" stroke-opacity=\"1\" stroke-width=\"3.2\"/>\n",
       "<circle clip-path=\"url(#clip572)\" cx=\"1752.8\" cy=\"856.93\" r=\"14.4\" fill=\"#009af9\" fill-rule=\"evenodd\" fill-opacity=\"1\" stroke=\"#000000\" stroke-opacity=\"1\" stroke-width=\"3.2\"/>\n",
       "<circle clip-path=\"url(#clip572)\" cx=\"1759.94\" cy=\"812.894\" r=\"14.4\" fill=\"#009af9\" fill-rule=\"evenodd\" fill-opacity=\"1\" stroke=\"#000000\" stroke-opacity=\"1\" stroke-width=\"3.2\"/>\n",
       "<circle clip-path=\"url(#clip572)\" cx=\"1764.41\" cy=\"768.304\" r=\"14.4\" fill=\"#009af9\" fill-rule=\"evenodd\" fill-opacity=\"1\" stroke=\"#000000\" stroke-opacity=\"1\" stroke-width=\"3.2\"/>\n",
       "<circle clip-path=\"url(#clip572)\" cx=\"1766.12\" cy=\"723.418\" r=\"14.4\" fill=\"#009af9\" fill-rule=\"evenodd\" fill-opacity=\"1\" stroke=\"#000000\" stroke-opacity=\"1\" stroke-width=\"3.2\"/>\n",
       "<circle clip-path=\"url(#clip572)\" cx=\"1764.99\" cy=\"678.505\" r=\"14.4\" fill=\"#009af9\" fill-rule=\"evenodd\" fill-opacity=\"1\" stroke=\"#000000\" stroke-opacity=\"1\" stroke-width=\"3.2\"/>\n",
       "<circle clip-path=\"url(#clip572)\" cx=\"1760.96\" cy=\"633.838\" r=\"14.4\" fill=\"#009af9\" fill-rule=\"evenodd\" fill-opacity=\"1\" stroke=\"#000000\" stroke-opacity=\"1\" stroke-width=\"3.2\"/>\n",
       "<circle clip-path=\"url(#clip572)\" cx=\"1754\" cy=\"589.694\" r=\"14.4\" fill=\"#009af9\" fill-rule=\"evenodd\" fill-opacity=\"1\" stroke=\"#000000\" stroke-opacity=\"1\" stroke-width=\"3.2\"/>\n",
       "<circle clip-path=\"url(#clip572)\" cx=\"1744.1\" cy=\"546.352\" r=\"14.4\" fill=\"#009af9\" fill-rule=\"evenodd\" fill-opacity=\"1\" stroke=\"#000000\" stroke-opacity=\"1\" stroke-width=\"3.2\"/>\n",
       "<circle clip-path=\"url(#clip572)\" cx=\"1731.3\" cy=\"504.091\" r=\"14.4\" fill=\"#009af9\" fill-rule=\"evenodd\" fill-opacity=\"1\" stroke=\"#000000\" stroke-opacity=\"1\" stroke-width=\"3.2\"/>\n",
       "<circle clip-path=\"url(#clip572)\" cx=\"1715.64\" cy=\"463.185\" r=\"14.4\" fill=\"#009af9\" fill-rule=\"evenodd\" fill-opacity=\"1\" stroke=\"#000000\" stroke-opacity=\"1\" stroke-width=\"3.2\"/>\n",
       "<circle clip-path=\"url(#clip572)\" cx=\"1697.18\" cy=\"423.904\" r=\"14.4\" fill=\"#009af9\" fill-rule=\"evenodd\" fill-opacity=\"1\" stroke=\"#000000\" stroke-opacity=\"1\" stroke-width=\"3.2\"/>\n",
       "<circle clip-path=\"url(#clip572)\" cx=\"1676.02\" cy=\"386.509\" r=\"14.4\" fill=\"#009af9\" fill-rule=\"evenodd\" fill-opacity=\"1\" stroke=\"#000000\" stroke-opacity=\"1\" stroke-width=\"3.2\"/>\n",
       "<circle clip-path=\"url(#clip572)\" cx=\"1652.29\" cy=\"351.253\" r=\"14.4\" fill=\"#009af9\" fill-rule=\"evenodd\" fill-opacity=\"1\" stroke=\"#000000\" stroke-opacity=\"1\" stroke-width=\"3.2\"/>\n",
       "<circle clip-path=\"url(#clip572)\" cx=\"1626.11\" cy=\"318.373\" r=\"14.4\" fill=\"#009af9\" fill-rule=\"evenodd\" fill-opacity=\"1\" stroke=\"#000000\" stroke-opacity=\"1\" stroke-width=\"3.2\"/>\n",
       "<circle clip-path=\"url(#clip572)\" cx=\"1597.67\" cy=\"288.094\" r=\"14.4\" fill=\"#009af9\" fill-rule=\"evenodd\" fill-opacity=\"1\" stroke=\"#000000\" stroke-opacity=\"1\" stroke-width=\"3.2\"/>\n",
       "<circle clip-path=\"url(#clip572)\" cx=\"1567.13\" cy=\"260.625\" r=\"14.4\" fill=\"#009af9\" fill-rule=\"evenodd\" fill-opacity=\"1\" stroke=\"#000000\" stroke-opacity=\"1\" stroke-width=\"3.2\"/>\n",
       "<circle clip-path=\"url(#clip572)\" cx=\"1534.7\" cy=\"236.154\" r=\"14.4\" fill=\"#009af9\" fill-rule=\"evenodd\" fill-opacity=\"1\" stroke=\"#000000\" stroke-opacity=\"1\" stroke-width=\"3.2\"/>\n",
       "<circle clip-path=\"url(#clip572)\" cx=\"1500.59\" cy=\"214.853\" r=\"14.4\" fill=\"#009af9\" fill-rule=\"evenodd\" fill-opacity=\"1\" stroke=\"#000000\" stroke-opacity=\"1\" stroke-width=\"3.2\"/>\n",
       "<circle clip-path=\"url(#clip572)\" cx=\"1465.05\" cy=\"196.868\" r=\"14.4\" fill=\"#009af9\" fill-rule=\"evenodd\" fill-opacity=\"1\" stroke=\"#000000\" stroke-opacity=\"1\" stroke-width=\"3.2\"/>\n",
       "<circle clip-path=\"url(#clip572)\" cx=\"1428.3\" cy=\"182.327\" r=\"14.4\" fill=\"#009af9\" fill-rule=\"evenodd\" fill-opacity=\"1\" stroke=\"#000000\" stroke-opacity=\"1\" stroke-width=\"3.2\"/>\n",
       "<circle clip-path=\"url(#clip572)\" cx=\"1390.62\" cy=\"171.331\" r=\"14.4\" fill=\"#009af9\" fill-rule=\"evenodd\" fill-opacity=\"1\" stroke=\"#000000\" stroke-opacity=\"1\" stroke-width=\"3.2\"/>\n",
       "<circle clip-path=\"url(#clip572)\" cx=\"1352.25\" cy=\"163.956\" r=\"14.4\" fill=\"#009af9\" fill-rule=\"evenodd\" fill-opacity=\"1\" stroke=\"#000000\" stroke-opacity=\"1\" stroke-width=\"3.2\"/>\n",
       "<circle clip-path=\"url(#clip572)\" cx=\"1313.48\" cy=\"160.256\" r=\"14.4\" fill=\"#009af9\" fill-rule=\"evenodd\" fill-opacity=\"1\" stroke=\"#000000\" stroke-opacity=\"1\" stroke-width=\"3.2\"/>\n",
       "<circle clip-path=\"url(#clip572)\" cx=\"1274.56\" cy=\"160.256\" r=\"14.4\" fill=\"#009af9\" fill-rule=\"evenodd\" fill-opacity=\"1\" stroke=\"#000000\" stroke-opacity=\"1\" stroke-width=\"3.2\"/>\n",
       "<circle clip-path=\"url(#clip572)\" cx=\"1235.79\" cy=\"163.956\" r=\"14.4\" fill=\"#009af9\" fill-rule=\"evenodd\" fill-opacity=\"1\" stroke=\"#000000\" stroke-opacity=\"1\" stroke-width=\"3.2\"/>\n",
       "<circle clip-path=\"url(#clip572)\" cx=\"1197.42\" cy=\"171.331\" r=\"14.4\" fill=\"#009af9\" fill-rule=\"evenodd\" fill-opacity=\"1\" stroke=\"#000000\" stroke-opacity=\"1\" stroke-width=\"3.2\"/>\n",
       "<circle clip-path=\"url(#clip572)\" cx=\"1159.74\" cy=\"182.327\" r=\"14.4\" fill=\"#009af9\" fill-rule=\"evenodd\" fill-opacity=\"1\" stroke=\"#000000\" stroke-opacity=\"1\" stroke-width=\"3.2\"/>\n",
       "<circle clip-path=\"url(#clip572)\" cx=\"1122.99\" cy=\"196.868\" r=\"14.4\" fill=\"#009af9\" fill-rule=\"evenodd\" fill-opacity=\"1\" stroke=\"#000000\" stroke-opacity=\"1\" stroke-width=\"3.2\"/>\n",
       "<circle clip-path=\"url(#clip572)\" cx=\"1087.44\" cy=\"214.853\" r=\"14.4\" fill=\"#009af9\" fill-rule=\"evenodd\" fill-opacity=\"1\" stroke=\"#000000\" stroke-opacity=\"1\" stroke-width=\"3.2\"/>\n",
       "<circle clip-path=\"url(#clip572)\" cx=\"1053.34\" cy=\"236.154\" r=\"14.4\" fill=\"#009af9\" fill-rule=\"evenodd\" fill-opacity=\"1\" stroke=\"#000000\" stroke-opacity=\"1\" stroke-width=\"3.2\"/>\n",
       "<circle clip-path=\"url(#clip572)\" cx=\"1020.91\" cy=\"260.625\" r=\"14.4\" fill=\"#009af9\" fill-rule=\"evenodd\" fill-opacity=\"1\" stroke=\"#000000\" stroke-opacity=\"1\" stroke-width=\"3.2\"/>\n",
       "<circle clip-path=\"url(#clip572)\" cx=\"990.372\" cy=\"288.094\" r=\"14.4\" fill=\"#009af9\" fill-rule=\"evenodd\" fill-opacity=\"1\" stroke=\"#000000\" stroke-opacity=\"1\" stroke-width=\"3.2\"/>\n",
       "<circle clip-path=\"url(#clip572)\" cx=\"961.925\" cy=\"318.373\" r=\"14.4\" fill=\"#009af9\" fill-rule=\"evenodd\" fill-opacity=\"1\" stroke=\"#000000\" stroke-opacity=\"1\" stroke-width=\"3.2\"/>\n",
       "<circle clip-path=\"url(#clip572)\" cx=\"935.753\" cy=\"351.253\" r=\"14.4\" fill=\"#009af9\" fill-rule=\"evenodd\" fill-opacity=\"1\" stroke=\"#000000\" stroke-opacity=\"1\" stroke-width=\"3.2\"/>\n",
       "<circle clip-path=\"url(#clip572)\" cx=\"912.018\" cy=\"386.509\" r=\"14.4\" fill=\"#009af9\" fill-rule=\"evenodd\" fill-opacity=\"1\" stroke=\"#000000\" stroke-opacity=\"1\" stroke-width=\"3.2\"/>\n",
       "<circle clip-path=\"url(#clip572)\" cx=\"890.862\" cy=\"423.904\" r=\"14.4\" fill=\"#009af9\" fill-rule=\"evenodd\" fill-opacity=\"1\" stroke=\"#000000\" stroke-opacity=\"1\" stroke-width=\"3.2\"/>\n",
       "<circle clip-path=\"url(#clip572)\" cx=\"872.403\" cy=\"463.185\" r=\"14.4\" fill=\"#009af9\" fill-rule=\"evenodd\" fill-opacity=\"1\" stroke=\"#000000\" stroke-opacity=\"1\" stroke-width=\"3.2\"/>\n",
       "<circle clip-path=\"url(#clip572)\" cx=\"856.737\" cy=\"504.091\" r=\"14.4\" fill=\"#009af9\" fill-rule=\"evenodd\" fill-opacity=\"1\" stroke=\"#000000\" stroke-opacity=\"1\" stroke-width=\"3.2\"/>\n",
       "<circle clip-path=\"url(#clip572)\" cx=\"843.935\" cy=\"546.352\" r=\"14.4\" fill=\"#009af9\" fill-rule=\"evenodd\" fill-opacity=\"1\" stroke=\"#000000\" stroke-opacity=\"1\" stroke-width=\"3.2\"/>\n",
       "<circle clip-path=\"url(#clip572)\" cx=\"834.043\" cy=\"589.694\" r=\"14.4\" fill=\"#009af9\" fill-rule=\"evenodd\" fill-opacity=\"1\" stroke=\"#000000\" stroke-opacity=\"1\" stroke-width=\"3.2\"/>\n",
       "<circle clip-path=\"url(#clip572)\" cx=\"827.083\" cy=\"633.838\" r=\"14.4\" fill=\"#009af9\" fill-rule=\"evenodd\" fill-opacity=\"1\" stroke=\"#000000\" stroke-opacity=\"1\" stroke-width=\"3.2\"/>\n",
       "<circle clip-path=\"url(#clip572)\" cx=\"823.05\" cy=\"678.505\" r=\"14.4\" fill=\"#009af9\" fill-rule=\"evenodd\" fill-opacity=\"1\" stroke=\"#000000\" stroke-opacity=\"1\" stroke-width=\"3.2\"/>\n",
       "<circle clip-path=\"url(#clip572)\" cx=\"821.915\" cy=\"723.418\" r=\"14.4\" fill=\"#009af9\" fill-rule=\"evenodd\" fill-opacity=\"1\" stroke=\"#000000\" stroke-opacity=\"1\" stroke-width=\"3.2\"/>\n",
       "<circle clip-path=\"url(#clip572)\" cx=\"823.624\" cy=\"768.304\" r=\"14.4\" fill=\"#009af9\" fill-rule=\"evenodd\" fill-opacity=\"1\" stroke=\"#000000\" stroke-opacity=\"1\" stroke-width=\"3.2\"/>\n",
       "<circle clip-path=\"url(#clip572)\" cx=\"828.098\" cy=\"812.894\" r=\"14.4\" fill=\"#009af9\" fill-rule=\"evenodd\" fill-opacity=\"1\" stroke=\"#000000\" stroke-opacity=\"1\" stroke-width=\"3.2\"/>\n",
       "<circle clip-path=\"url(#clip572)\" cx=\"835.235\" cy=\"856.93\" r=\"14.4\" fill=\"#009af9\" fill-rule=\"evenodd\" fill-opacity=\"1\" stroke=\"#000000\" stroke-opacity=\"1\" stroke-width=\"3.2\"/>\n",
       "<circle clip-path=\"url(#clip572)\" cx=\"844.91\" cy=\"900.165\" r=\"14.4\" fill=\"#009af9\" fill-rule=\"evenodd\" fill-opacity=\"1\" stroke=\"#000000\" stroke-opacity=\"1\" stroke-width=\"3.2\"/>\n",
       "<circle clip-path=\"url(#clip572)\" cx=\"856.978\" cy=\"942.364\" r=\"14.4\" fill=\"#009af9\" fill-rule=\"evenodd\" fill-opacity=\"1\" stroke=\"#000000\" stroke-opacity=\"1\" stroke-width=\"3.2\"/>\n",
       "<circle clip-path=\"url(#clip572)\" cx=\"871.272\" cy=\"983.307\" r=\"14.4\" fill=\"#009af9\" fill-rule=\"evenodd\" fill-opacity=\"1\" stroke=\"#000000\" stroke-opacity=\"1\" stroke-width=\"3.2\"/>\n",
       "<circle clip-path=\"url(#clip572)\" cx=\"887.609\" cy=\"1022.79\" r=\"14.4\" fill=\"#009af9\" fill-rule=\"evenodd\" fill-opacity=\"1\" stroke=\"#000000\" stroke-opacity=\"1\" stroke-width=\"3.2\"/>\n",
       "<circle clip-path=\"url(#clip572)\" cx=\"905.786\" cy=\"1060.63\" r=\"14.4\" fill=\"#009af9\" fill-rule=\"evenodd\" fill-opacity=\"1\" stroke=\"#000000\" stroke-opacity=\"1\" stroke-width=\"3.2\"/>\n",
       "<circle clip-path=\"url(#clip572)\" cx=\"925.588\" cy=\"1096.66\" r=\"14.4\" fill=\"#009af9\" fill-rule=\"evenodd\" fill-opacity=\"1\" stroke=\"#000000\" stroke-opacity=\"1\" stroke-width=\"3.2\"/>\n",
       "<circle clip-path=\"url(#clip572)\" cx=\"946.787\" cy=\"1130.73\" r=\"14.4\" fill=\"#009af9\" fill-rule=\"evenodd\" fill-opacity=\"1\" stroke=\"#000000\" stroke-opacity=\"1\" stroke-width=\"3.2\"/>\n",
       "<circle clip-path=\"url(#clip572)\" cx=\"969.143\" cy=\"1162.73\" r=\"14.4\" fill=\"#009af9\" fill-rule=\"evenodd\" fill-opacity=\"1\" stroke=\"#000000\" stroke-opacity=\"1\" stroke-width=\"3.2\"/>\n",
       "<circle clip-path=\"url(#clip572)\" cx=\"992.408\" cy=\"1192.56\" r=\"14.4\" fill=\"#009af9\" fill-rule=\"evenodd\" fill-opacity=\"1\" stroke=\"#000000\" stroke-opacity=\"1\" stroke-width=\"3.2\"/>\n",
       "<circle clip-path=\"url(#clip572)\" cx=\"1016.33\" cy=\"1220.14\" r=\"14.4\" fill=\"#009af9\" fill-rule=\"evenodd\" fill-opacity=\"1\" stroke=\"#000000\" stroke-opacity=\"1\" stroke-width=\"3.2\"/>\n",
       "<circle clip-path=\"url(#clip572)\" cx=\"1040.64\" cy=\"1245.42\" r=\"14.4\" fill=\"#009af9\" fill-rule=\"evenodd\" fill-opacity=\"1\" stroke=\"#000000\" stroke-opacity=\"1\" stroke-width=\"3.2\"/>\n",
       "<circle clip-path=\"url(#clip572)\" cx=\"1065.1\" cy=\"1268.38\" r=\"14.4\" fill=\"#009af9\" fill-rule=\"evenodd\" fill-opacity=\"1\" stroke=\"#000000\" stroke-opacity=\"1\" stroke-width=\"3.2\"/>\n",
       "<circle clip-path=\"url(#clip572)\" cx=\"1089.43\" cy=\"1289.01\" r=\"14.4\" fill=\"#009af9\" fill-rule=\"evenodd\" fill-opacity=\"1\" stroke=\"#000000\" stroke-opacity=\"1\" stroke-width=\"3.2\"/>\n",
       "<circle clip-path=\"url(#clip572)\" cx=\"1113.39\" cy=\"1307.34\" r=\"14.4\" fill=\"#009af9\" fill-rule=\"evenodd\" fill-opacity=\"1\" stroke=\"#000000\" stroke-opacity=\"1\" stroke-width=\"3.2\"/>\n",
       "<circle clip-path=\"url(#clip572)\" cx=\"1136.72\" cy=\"1323.42\" r=\"14.4\" fill=\"#009af9\" fill-rule=\"evenodd\" fill-opacity=\"1\" stroke=\"#000000\" stroke-opacity=\"1\" stroke-width=\"3.2\"/>\n",
       "<circle clip-path=\"url(#clip572)\" cx=\"1159.19\" cy=\"1337.32\" r=\"14.4\" fill=\"#009af9\" fill-rule=\"evenodd\" fill-opacity=\"1\" stroke=\"#000000\" stroke-opacity=\"1\" stroke-width=\"3.2\"/>\n",
       "<circle clip-path=\"url(#clip572)\" cx=\"1180.55\" cy=\"1349.13\" r=\"14.4\" fill=\"#009af9\" fill-rule=\"evenodd\" fill-opacity=\"1\" stroke=\"#000000\" stroke-opacity=\"1\" stroke-width=\"3.2\"/>\n",
       "<circle clip-path=\"url(#clip572)\" cx=\"1200.6\" cy=\"1358.97\" r=\"14.4\" fill=\"#009af9\" fill-rule=\"evenodd\" fill-opacity=\"1\" stroke=\"#000000\" stroke-opacity=\"1\" stroke-width=\"3.2\"/>\n",
       "<circle clip-path=\"url(#clip572)\" cx=\"1219.13\" cy=\"1366.96\" r=\"14.4\" fill=\"#009af9\" fill-rule=\"evenodd\" fill-opacity=\"1\" stroke=\"#000000\" stroke-opacity=\"1\" stroke-width=\"3.2\"/>\n",
       "<circle clip-path=\"url(#clip572)\" cx=\"1235.95\" cy=\"1373.28\" r=\"14.4\" fill=\"#009af9\" fill-rule=\"evenodd\" fill-opacity=\"1\" stroke=\"#000000\" stroke-opacity=\"1\" stroke-width=\"3.2\"/>\n",
       "<circle clip-path=\"url(#clip572)\" cx=\"1250.88\" cy=\"1378.08\" r=\"14.4\" fill=\"#009af9\" fill-rule=\"evenodd\" fill-opacity=\"1\" stroke=\"#000000\" stroke-opacity=\"1\" stroke-width=\"3.2\"/>\n",
       "<circle clip-path=\"url(#clip572)\" cx=\"1263.78\" cy=\"1381.56\" r=\"14.4\" fill=\"#009af9\" fill-rule=\"evenodd\" fill-opacity=\"1\" stroke=\"#000000\" stroke-opacity=\"1\" stroke-width=\"3.2\"/>\n",
       "<circle clip-path=\"url(#clip572)\" cx=\"1274.52\" cy=\"1383.91\" r=\"14.4\" fill=\"#009af9\" fill-rule=\"evenodd\" fill-opacity=\"1\" stroke=\"#000000\" stroke-opacity=\"1\" stroke-width=\"3.2\"/>\n",
       "<circle clip-path=\"url(#clip572)\" cx=\"1282.99\" cy=\"1385.34\" r=\"14.4\" fill=\"#009af9\" fill-rule=\"evenodd\" fill-opacity=\"1\" stroke=\"#000000\" stroke-opacity=\"1\" stroke-width=\"3.2\"/>\n",
       "<circle clip-path=\"url(#clip572)\" cx=\"1289.1\" cy=\"1386.08\" r=\"14.4\" fill=\"#009af9\" fill-rule=\"evenodd\" fill-opacity=\"1\" stroke=\"#000000\" stroke-opacity=\"1\" stroke-width=\"3.2\"/>\n",
       "<circle clip-path=\"url(#clip572)\" cx=\"1292.79\" cy=\"1386.36\" r=\"14.4\" fill=\"#009af9\" fill-rule=\"evenodd\" fill-opacity=\"1\" stroke=\"#000000\" stroke-opacity=\"1\" stroke-width=\"3.2\"/>\n",
       "<circle clip-path=\"url(#clip572)\" cx=\"1294.02\" cy=\"1386.4\" r=\"14.4\" fill=\"#009af9\" fill-rule=\"evenodd\" fill-opacity=\"1\" stroke=\"#000000\" stroke-opacity=\"1\" stroke-width=\"3.2\"/>\n",
       "</svg>\n"
      ],
      "text/html": [
       "<?xml version=\"1.0\" encoding=\"utf-8\"?>\n",
       "<svg xmlns=\"http://www.w3.org/2000/svg\" xmlns:xlink=\"http://www.w3.org/1999/xlink\" width=\"600\" height=\"400\" viewBox=\"0 0 2400 1600\">\n",
       "<defs>\n",
       "  <clipPath id=\"clip620\">\n",
       "    <rect x=\"0\" y=\"0\" width=\"2400\" height=\"1600\"/>\n",
       "  </clipPath>\n",
       "</defs>\n",
       "<path clip-path=\"url(#clip620)\" d=\"M0 1600 L2400 1600 L2400 0 L0 0  Z\" fill=\"#ffffff\" fill-rule=\"evenodd\" fill-opacity=\"1\"/>\n",
       "<defs>\n",
       "  <clipPath id=\"clip621\">\n",
       "    <rect x=\"480\" y=\"0\" width=\"1681\" height=\"1600\"/>\n",
       "  </clipPath>\n",
       "</defs>\n",
       "<path clip-path=\"url(#clip620)\" d=\"M235.283 1423.18 L2352.76 1423.18 L2352.76 123.472 L235.283 123.472  Z\" fill=\"#ffffff\" fill-rule=\"evenodd\" fill-opacity=\"1\"/>\n",
       "<defs>\n",
       "  <clipPath id=\"clip622\">\n",
       "    <rect x=\"235\" y=\"123\" width=\"2118\" height=\"1301\"/>\n",
       "  </clipPath>\n",
       "</defs>\n",
       "<polyline clip-path=\"url(#clip622)\" style=\"stroke:#000000; stroke-linecap:round; stroke-linejoin:round; stroke-width:2; stroke-opacity:0.1; fill:none\" points=\"569.985,1423.18 569.985,123.472 \"/>\n",
       "<polyline clip-path=\"url(#clip622)\" style=\"stroke:#000000; stroke-linecap:round; stroke-linejoin:round; stroke-width:2; stroke-opacity:0.1; fill:none\" points=\"932.002,1423.18 932.002,123.472 \"/>\n",
       "<polyline clip-path=\"url(#clip622)\" style=\"stroke:#000000; stroke-linecap:round; stroke-linejoin:round; stroke-width:2; stroke-opacity:0.1; fill:none\" points=\"1294.02,1423.18 1294.02,123.472 \"/>\n",
       "<polyline clip-path=\"url(#clip622)\" style=\"stroke:#000000; stroke-linecap:round; stroke-linejoin:round; stroke-width:2; stroke-opacity:0.1; fill:none\" points=\"1656.04,1423.18 1656.04,123.472 \"/>\n",
       "<polyline clip-path=\"url(#clip622)\" style=\"stroke:#000000; stroke-linecap:round; stroke-linejoin:round; stroke-width:2; stroke-opacity:0.1; fill:none\" points=\"2018.05,1423.18 2018.05,123.472 \"/>\n",
       "<polyline clip-path=\"url(#clip622)\" style=\"stroke:#000000; stroke-linecap:round; stroke-linejoin:round; stroke-width:2; stroke-opacity:0.1; fill:none\" points=\"235.283,1386.4 2352.76,1386.4 \"/>\n",
       "<polyline clip-path=\"url(#clip622)\" style=\"stroke:#000000; stroke-linecap:round; stroke-linejoin:round; stroke-width:2; stroke-opacity:0.1; fill:none\" points=\"235.283,1205.39 2352.76,1205.39 \"/>\n",
       "<polyline clip-path=\"url(#clip622)\" style=\"stroke:#000000; stroke-linecap:round; stroke-linejoin:round; stroke-width:2; stroke-opacity:0.1; fill:none\" points=\"235.283,1024.38 2352.76,1024.38 \"/>\n",
       "<polyline clip-path=\"url(#clip622)\" style=\"stroke:#000000; stroke-linecap:round; stroke-linejoin:round; stroke-width:2; stroke-opacity:0.1; fill:none\" points=\"235.283,843.37 2352.76,843.37 \"/>\n",
       "<polyline clip-path=\"url(#clip622)\" style=\"stroke:#000000; stroke-linecap:round; stroke-linejoin:round; stroke-width:2; stroke-opacity:0.1; fill:none\" points=\"235.283,662.362 2352.76,662.362 \"/>\n",
       "<polyline clip-path=\"url(#clip622)\" style=\"stroke:#000000; stroke-linecap:round; stroke-linejoin:round; stroke-width:2; stroke-opacity:0.1; fill:none\" points=\"235.283,481.353 2352.76,481.353 \"/>\n",
       "<polyline clip-path=\"url(#clip622)\" style=\"stroke:#000000; stroke-linecap:round; stroke-linejoin:round; stroke-width:2; stroke-opacity:0.1; fill:none\" points=\"235.283,300.345 2352.76,300.345 \"/>\n",
       "<polyline clip-path=\"url(#clip620)\" style=\"stroke:#000000; stroke-linecap:round; stroke-linejoin:round; stroke-width:4; stroke-opacity:1; fill:none\" points=\"235.283,1423.18 2352.76,1423.18 \"/>\n",
       "<polyline clip-path=\"url(#clip620)\" style=\"stroke:#000000; stroke-linecap:round; stroke-linejoin:round; stroke-width:4; stroke-opacity:1; fill:none\" points=\"569.985,1423.18 569.985,1404.28 \"/>\n",
       "<polyline clip-path=\"url(#clip620)\" style=\"stroke:#000000; stroke-linecap:round; stroke-linejoin:round; stroke-width:4; stroke-opacity:1; fill:none\" points=\"932.002,1423.18 932.002,1404.28 \"/>\n",
       "<polyline clip-path=\"url(#clip620)\" style=\"stroke:#000000; stroke-linecap:round; stroke-linejoin:round; stroke-width:4; stroke-opacity:1; fill:none\" points=\"1294.02,1423.18 1294.02,1404.28 \"/>\n",
       "<polyline clip-path=\"url(#clip620)\" style=\"stroke:#000000; stroke-linecap:round; stroke-linejoin:round; stroke-width:4; stroke-opacity:1; fill:none\" points=\"1656.04,1423.18 1656.04,1404.28 \"/>\n",
       "<polyline clip-path=\"url(#clip620)\" style=\"stroke:#000000; stroke-linecap:round; stroke-linejoin:round; stroke-width:4; stroke-opacity:1; fill:none\" points=\"2018.05,1423.18 2018.05,1404.28 \"/>\n",
       "<path clip-path=\"url(#clip620)\" d=\"M508.967 1468.75 L538.643 1468.75 L538.643 1472.69 L508.967 1472.69 L508.967 1468.75 Z\" fill=\"#000000\" fill-rule=\"nonzero\" fill-opacity=\"1\" /><path clip-path=\"url(#clip620)\" d=\"M561.583 1455.09 L549.777 1473.54 L561.583 1473.54 L561.583 1455.09 M560.356 1451.02 L566.235 1451.02 L566.235 1473.54 L571.166 1473.54 L571.166 1477.43 L566.235 1477.43 L566.235 1485.58 L561.583 1485.58 L561.583 1477.43 L545.981 1477.43 L545.981 1472.92 L560.356 1451.02 Z\" fill=\"#000000\" fill-rule=\"nonzero\" fill-opacity=\"1\" /><path clip-path=\"url(#clip620)\" d=\"M588.897 1454.1 Q585.286 1454.1 583.458 1457.66 Q581.652 1461.2 581.652 1468.33 Q581.652 1475.44 583.458 1479.01 Q585.286 1482.55 588.897 1482.55 Q592.532 1482.55 594.337 1479.01 Q596.166 1475.44 596.166 1468.33 Q596.166 1461.2 594.337 1457.66 Q592.532 1454.1 588.897 1454.1 M588.897 1450.39 Q594.708 1450.39 597.763 1455 Q600.842 1459.58 600.842 1468.33 Q600.842 1477.06 597.763 1481.67 Q594.708 1486.25 588.897 1486.25 Q583.087 1486.25 580.009 1481.67 Q576.953 1477.06 576.953 1468.33 Q576.953 1459.58 580.009 1455 Q583.087 1450.39 588.897 1450.39 Z\" fill=\"#000000\" fill-rule=\"nonzero\" fill-opacity=\"1\" /><path clip-path=\"url(#clip620)\" d=\"M619.059 1454.1 Q615.448 1454.1 613.619 1457.66 Q611.814 1461.2 611.814 1468.33 Q611.814 1475.44 613.619 1479.01 Q615.448 1482.55 619.059 1482.55 Q622.694 1482.55 624.499 1479.01 Q626.328 1475.44 626.328 1468.33 Q626.328 1461.2 624.499 1457.66 Q622.694 1454.1 619.059 1454.1 M619.059 1450.39 Q624.869 1450.39 627.925 1455 Q631.004 1459.58 631.004 1468.33 Q631.004 1477.06 627.925 1481.67 Q624.869 1486.25 619.059 1486.25 Q613.249 1486.25 610.17 1481.67 Q607.115 1477.06 607.115 1468.33 Q607.115 1459.58 610.17 1455 Q613.249 1450.39 619.059 1450.39 Z\" fill=\"#000000\" fill-rule=\"nonzero\" fill-opacity=\"1\" /><path clip-path=\"url(#clip620)\" d=\"M870.984 1468.75 L900.66 1468.75 L900.66 1472.69 L870.984 1472.69 L870.984 1468.75 Z\" fill=\"#000000\" fill-rule=\"nonzero\" fill-opacity=\"1\" /><path clip-path=\"url(#clip620)\" d=\"M914.78 1481.64 L931.1 1481.64 L931.1 1485.58 L909.155 1485.58 L909.155 1481.64 Q911.817 1478.89 916.401 1474.26 Q921.007 1469.61 922.188 1468.27 Q924.433 1465.74 925.313 1464.01 Q926.215 1462.25 926.215 1460.56 Q926.215 1457.8 924.271 1456.07 Q922.35 1454.33 919.248 1454.33 Q917.049 1454.33 914.595 1455.09 Q912.165 1455.86 909.387 1457.41 L909.387 1452.69 Q912.211 1451.55 914.665 1450.97 Q917.118 1450.39 919.155 1450.39 Q924.526 1450.39 927.72 1453.08 Q930.914 1455.77 930.914 1460.26 Q930.914 1462.39 930.104 1464.31 Q929.317 1466.2 927.211 1468.8 Q926.632 1469.47 923.53 1472.69 Q920.428 1475.88 914.78 1481.64 Z\" fill=\"#000000\" fill-rule=\"nonzero\" fill-opacity=\"1\" /><path clip-path=\"url(#clip620)\" d=\"M950.914 1454.1 Q947.303 1454.1 945.475 1457.66 Q943.669 1461.2 943.669 1468.33 Q943.669 1475.44 945.475 1479.01 Q947.303 1482.55 950.914 1482.55 Q954.549 1482.55 956.354 1479.01 Q958.183 1475.44 958.183 1468.33 Q958.183 1461.2 956.354 1457.66 Q954.549 1454.1 950.914 1454.1 M950.914 1450.39 Q956.725 1450.39 959.78 1455 Q962.859 1459.58 962.859 1468.33 Q962.859 1477.06 959.78 1481.67 Q956.725 1486.25 950.914 1486.25 Q945.104 1486.25 942.026 1481.67 Q938.97 1477.06 938.97 1468.33 Q938.97 1459.58 942.026 1455 Q945.104 1450.39 950.914 1450.39 Z\" fill=\"#000000\" fill-rule=\"nonzero\" fill-opacity=\"1\" /><path clip-path=\"url(#clip620)\" d=\"M981.076 1454.1 Q977.465 1454.1 975.636 1457.66 Q973.831 1461.2 973.831 1468.33 Q973.831 1475.44 975.636 1479.01 Q977.465 1482.55 981.076 1482.55 Q984.71 1482.55 986.516 1479.01 Q988.345 1475.44 988.345 1468.33 Q988.345 1461.2 986.516 1457.66 Q984.71 1454.1 981.076 1454.1 M981.076 1450.39 Q986.886 1450.39 989.942 1455 Q993.021 1459.58 993.021 1468.33 Q993.021 1477.06 989.942 1481.67 Q986.886 1486.25 981.076 1486.25 Q975.266 1486.25 972.187 1481.67 Q969.132 1477.06 969.132 1468.33 Q969.132 1459.58 972.187 1455 Q975.266 1450.39 981.076 1450.39 Z\" fill=\"#000000\" fill-rule=\"nonzero\" fill-opacity=\"1\" /><path clip-path=\"url(#clip620)\" d=\"M1294.02 1454.1 Q1290.41 1454.1 1288.58 1457.66 Q1286.77 1461.2 1286.77 1468.33 Q1286.77 1475.44 1288.58 1479.01 Q1290.41 1482.55 1294.02 1482.55 Q1297.65 1482.55 1299.46 1479.01 Q1301.29 1475.44 1301.29 1468.33 Q1301.29 1461.2 1299.46 1457.66 Q1297.65 1454.1 1294.02 1454.1 M1294.02 1450.39 Q1299.83 1450.39 1302.89 1455 Q1305.96 1459.58 1305.96 1468.33 Q1305.96 1477.06 1302.89 1481.67 Q1299.83 1486.25 1294.02 1486.25 Q1288.21 1486.25 1285.13 1481.67 Q1282.07 1477.06 1282.07 1468.33 Q1282.07 1459.58 1285.13 1455 Q1288.21 1450.39 1294.02 1450.39 Z\" fill=\"#000000\" fill-rule=\"nonzero\" fill-opacity=\"1\" /><path clip-path=\"url(#clip620)\" d=\"M1619.73 1481.64 L1636.05 1481.64 L1636.05 1485.58 L1614.1 1485.58 L1614.1 1481.64 Q1616.77 1478.89 1621.35 1474.26 Q1625.96 1469.61 1627.14 1468.27 Q1629.38 1465.74 1630.26 1464.01 Q1631.16 1462.25 1631.16 1460.56 Q1631.16 1457.8 1629.22 1456.07 Q1627.3 1454.33 1624.2 1454.33 Q1622 1454.33 1619.54 1455.09 Q1617.11 1455.86 1614.34 1457.41 L1614.34 1452.69 Q1617.16 1451.55 1619.61 1450.97 Q1622.07 1450.39 1624.1 1450.39 Q1629.47 1450.39 1632.67 1453.08 Q1635.86 1455.77 1635.86 1460.26 Q1635.86 1462.39 1635.05 1464.31 Q1634.27 1466.2 1632.16 1468.8 Q1631.58 1469.47 1628.48 1472.69 Q1625.38 1475.88 1619.73 1481.64 Z\" fill=\"#000000\" fill-rule=\"nonzero\" fill-opacity=\"1\" /><path clip-path=\"url(#clip620)\" d=\"M1655.86 1454.1 Q1652.25 1454.1 1650.42 1457.66 Q1648.62 1461.2 1648.62 1468.33 Q1648.62 1475.44 1650.42 1479.01 Q1652.25 1482.55 1655.86 1482.55 Q1659.5 1482.55 1661.3 1479.01 Q1663.13 1475.44 1663.13 1468.33 Q1663.13 1461.2 1661.3 1457.66 Q1659.5 1454.1 1655.86 1454.1 M1655.86 1450.39 Q1661.67 1450.39 1664.73 1455 Q1667.81 1459.58 1667.81 1468.33 Q1667.81 1477.06 1664.73 1481.67 Q1661.67 1486.25 1655.86 1486.25 Q1650.05 1486.25 1646.97 1481.67 Q1643.92 1477.06 1643.92 1468.33 Q1643.92 1459.58 1646.97 1455 Q1650.05 1450.39 1655.86 1450.39 Z\" fill=\"#000000\" fill-rule=\"nonzero\" fill-opacity=\"1\" /><path clip-path=\"url(#clip620)\" d=\"M1686.02 1454.1 Q1682.41 1454.1 1680.58 1457.66 Q1678.78 1461.2 1678.78 1468.33 Q1678.78 1475.44 1680.58 1479.01 Q1682.41 1482.55 1686.02 1482.55 Q1689.66 1482.55 1691.46 1479.01 Q1693.29 1475.44 1693.29 1468.33 Q1693.29 1461.2 1691.46 1457.66 Q1689.66 1454.1 1686.02 1454.1 M1686.02 1450.39 Q1691.83 1450.39 1694.89 1455 Q1697.97 1459.58 1697.97 1468.33 Q1697.97 1477.06 1694.89 1481.67 Q1691.83 1486.25 1686.02 1486.25 Q1680.21 1486.25 1677.14 1481.67 Q1674.08 1477.06 1674.08 1468.33 Q1674.08 1459.58 1677.14 1455 Q1680.21 1450.39 1686.02 1450.39 Z\" fill=\"#000000\" fill-rule=\"nonzero\" fill-opacity=\"1\" /><path clip-path=\"url(#clip620)\" d=\"M1991.14 1455.09 L1979.34 1473.54 L1991.14 1473.54 L1991.14 1455.09 M1989.92 1451.02 L1995.8 1451.02 L1995.8 1473.54 L2000.73 1473.54 L2000.73 1477.43 L1995.8 1477.43 L1995.8 1485.58 L1991.14 1485.58 L1991.14 1477.43 L1975.54 1477.43 L1975.54 1472.92 L1989.92 1451.02 Z\" fill=\"#000000\" fill-rule=\"nonzero\" fill-opacity=\"1\" /><path clip-path=\"url(#clip620)\" d=\"M2018.46 1454.1 Q2014.85 1454.1 2013.02 1457.66 Q2011.21 1461.2 2011.21 1468.33 Q2011.21 1475.44 2013.02 1479.01 Q2014.85 1482.55 2018.46 1482.55 Q2022.09 1482.55 2023.9 1479.01 Q2025.73 1475.44 2025.73 1468.33 Q2025.73 1461.2 2023.9 1457.66 Q2022.09 1454.1 2018.46 1454.1 M2018.46 1450.39 Q2024.27 1450.39 2027.32 1455 Q2030.4 1459.58 2030.4 1468.33 Q2030.4 1477.06 2027.32 1481.67 Q2024.27 1486.25 2018.46 1486.25 Q2012.65 1486.25 2009.57 1481.67 Q2006.51 1477.06 2006.51 1468.33 Q2006.51 1459.58 2009.57 1455 Q2012.65 1450.39 2018.46 1450.39 Z\" fill=\"#000000\" fill-rule=\"nonzero\" fill-opacity=\"1\" /><path clip-path=\"url(#clip620)\" d=\"M2048.62 1454.1 Q2045.01 1454.1 2043.18 1457.66 Q2041.37 1461.2 2041.37 1468.33 Q2041.37 1475.44 2043.18 1479.01 Q2045.01 1482.55 2048.62 1482.55 Q2052.25 1482.55 2054.06 1479.01 Q2055.89 1475.44 2055.89 1468.33 Q2055.89 1461.2 2054.06 1457.66 Q2052.25 1454.1 2048.62 1454.1 M2048.62 1450.39 Q2054.43 1450.39 2057.49 1455 Q2060.56 1459.58 2060.56 1468.33 Q2060.56 1477.06 2057.49 1481.67 Q2054.43 1486.25 2048.62 1486.25 Q2042.81 1486.25 2039.73 1481.67 Q2036.68 1477.06 2036.68 1468.33 Q2036.68 1459.58 2039.73 1455 Q2042.81 1450.39 2048.62 1450.39 Z\" fill=\"#000000\" fill-rule=\"nonzero\" fill-opacity=\"1\" /><path clip-path=\"url(#clip620)\" d=\"M1295.71 1571.35 Q1293.22 1577.72 1290.87 1579.66 Q1288.51 1581.6 1284.57 1581.6 L1279.89 1581.6 L1279.89 1576.7 L1283.32 1576.7 Q1285.74 1576.7 1287.08 1575.56 Q1288.42 1574.41 1290.04 1570.14 L1291.09 1567.47 L1276.67 1532.4 L1282.88 1532.4 L1294.02 1560.28 L1305.16 1532.4 L1311.37 1532.4 L1295.71 1571.35 Z\" fill=\"#000000\" fill-rule=\"nonzero\" fill-opacity=\"1\" /><polyline clip-path=\"url(#clip620)\" style=\"stroke:#000000; stroke-linecap:round; stroke-linejoin:round; stroke-width:4; stroke-opacity:1; fill:none\" points=\"235.283,1423.18 235.283,123.472 \"/>\n",
       "<polyline clip-path=\"url(#clip620)\" style=\"stroke:#000000; stroke-linecap:round; stroke-linejoin:round; stroke-width:4; stroke-opacity:1; fill:none\" points=\"235.283,1386.4 254.18,1386.4 \"/>\n",
       "<polyline clip-path=\"url(#clip620)\" style=\"stroke:#000000; stroke-linecap:round; stroke-linejoin:round; stroke-width:4; stroke-opacity:1; fill:none\" points=\"235.283,1205.39 254.18,1205.39 \"/>\n",
       "<polyline clip-path=\"url(#clip620)\" style=\"stroke:#000000; stroke-linecap:round; stroke-linejoin:round; stroke-width:4; stroke-opacity:1; fill:none\" points=\"235.283,1024.38 254.18,1024.38 \"/>\n",
       "<polyline clip-path=\"url(#clip620)\" style=\"stroke:#000000; stroke-linecap:round; stroke-linejoin:round; stroke-width:4; stroke-opacity:1; fill:none\" points=\"235.283,843.37 254.18,843.37 \"/>\n",
       "<polyline clip-path=\"url(#clip620)\" style=\"stroke:#000000; stroke-linecap:round; stroke-linejoin:round; stroke-width:4; stroke-opacity:1; fill:none\" points=\"235.283,662.362 254.18,662.362 \"/>\n",
       "<polyline clip-path=\"url(#clip620)\" style=\"stroke:#000000; stroke-linecap:round; stroke-linejoin:round; stroke-width:4; stroke-opacity:1; fill:none\" points=\"235.283,481.353 254.18,481.353 \"/>\n",
       "<polyline clip-path=\"url(#clip620)\" style=\"stroke:#000000; stroke-linecap:round; stroke-linejoin:round; stroke-width:4; stroke-opacity:1; fill:none\" points=\"235.283,300.345 254.18,300.345 \"/>\n",
       "<path clip-path=\"url(#clip620)\" d=\"M187.338 1372.19 Q183.727 1372.19 181.899 1375.76 Q180.093 1379.3 180.093 1386.43 Q180.093 1393.54 181.899 1397.1 Q183.727 1400.64 187.338 1400.64 Q190.973 1400.64 192.778 1397.1 Q194.607 1393.54 194.607 1386.43 Q194.607 1379.3 192.778 1375.76 Q190.973 1372.19 187.338 1372.19 M187.338 1368.49 Q193.149 1368.49 196.204 1373.1 Q199.283 1377.68 199.283 1386.43 Q199.283 1395.16 196.204 1399.76 Q193.149 1404.35 187.338 1404.35 Q181.528 1404.35 178.45 1399.76 Q175.394 1395.16 175.394 1386.43 Q175.394 1377.68 178.45 1373.1 Q181.528 1368.49 187.338 1368.49 Z\" fill=\"#000000\" fill-rule=\"nonzero\" fill-opacity=\"1\" /><path clip-path=\"url(#clip620)\" d=\"M117.825 1218.73 L125.464 1218.73 L125.464 1192.37 L117.154 1194.03 L117.154 1189.77 L125.418 1188.11 L130.093 1188.11 L130.093 1218.73 L137.732 1218.73 L137.732 1222.67 L117.825 1222.67 L117.825 1218.73 Z\" fill=\"#000000\" fill-rule=\"nonzero\" fill-opacity=\"1\" /><path clip-path=\"url(#clip620)\" d=\"M157.177 1191.19 Q153.566 1191.19 151.737 1194.75 Q149.931 1198.29 149.931 1205.42 Q149.931 1212.53 151.737 1216.09 Q153.566 1219.63 157.177 1219.63 Q160.811 1219.63 162.616 1216.09 Q164.445 1212.53 164.445 1205.42 Q164.445 1198.29 162.616 1194.75 Q160.811 1191.19 157.177 1191.19 M157.177 1187.48 Q162.987 1187.48 166.042 1192.09 Q169.121 1196.67 169.121 1205.42 Q169.121 1214.15 166.042 1218.76 Q162.987 1223.34 157.177 1223.34 Q151.366 1223.34 148.288 1218.76 Q145.232 1214.15 145.232 1205.42 Q145.232 1196.67 148.288 1192.09 Q151.366 1187.48 157.177 1187.48 Z\" fill=\"#000000\" fill-rule=\"nonzero\" fill-opacity=\"1\" /><path clip-path=\"url(#clip620)\" d=\"M187.338 1191.19 Q183.727 1191.19 181.899 1194.75 Q180.093 1198.29 180.093 1205.42 Q180.093 1212.53 181.899 1216.09 Q183.727 1219.63 187.338 1219.63 Q190.973 1219.63 192.778 1216.09 Q194.607 1212.53 194.607 1205.42 Q194.607 1198.29 192.778 1194.75 Q190.973 1191.19 187.338 1191.19 M187.338 1187.48 Q193.149 1187.48 196.204 1192.09 Q199.283 1196.67 199.283 1205.42 Q199.283 1214.15 196.204 1218.76 Q193.149 1223.34 187.338 1223.34 Q181.528 1223.34 178.45 1218.76 Q175.394 1214.15 175.394 1205.42 Q175.394 1196.67 178.45 1192.09 Q181.528 1187.48 187.338 1187.48 Z\" fill=\"#000000\" fill-rule=\"nonzero\" fill-opacity=\"1\" /><path clip-path=\"url(#clip620)\" d=\"M121.043 1037.72 L137.362 1037.72 L137.362 1041.66 L115.418 1041.66 L115.418 1037.72 Q118.08 1034.97 122.663 1030.34 Q127.269 1025.69 128.45 1024.34 Q130.695 1021.82 131.575 1020.08 Q132.478 1018.33 132.478 1016.64 Q132.478 1013.88 130.533 1012.14 Q128.612 1010.41 125.51 1010.41 Q123.311 1010.41 120.857 1011.17 Q118.427 1011.94 115.649 1013.49 L115.649 1008.77 Q118.473 1007.63 120.927 1007.05 Q123.38 1006.47 125.418 1006.47 Q130.788 1006.47 133.982 1009.16 Q137.177 1011.84 137.177 1016.33 Q137.177 1018.46 136.367 1020.39 Q135.579 1022.28 133.473 1024.88 Q132.894 1025.55 129.792 1028.77 Q126.691 1031.96 121.043 1037.72 Z\" fill=\"#000000\" fill-rule=\"nonzero\" fill-opacity=\"1\" /><path clip-path=\"url(#clip620)\" d=\"M157.177 1010.18 Q153.566 1010.18 151.737 1013.74 Q149.931 1017.28 149.931 1024.41 Q149.931 1031.52 151.737 1035.08 Q153.566 1038.63 157.177 1038.63 Q160.811 1038.63 162.616 1035.08 Q164.445 1031.52 164.445 1024.41 Q164.445 1017.28 162.616 1013.74 Q160.811 1010.18 157.177 1010.18 M157.177 1006.47 Q162.987 1006.47 166.042 1011.08 Q169.121 1015.66 169.121 1024.41 Q169.121 1033.14 166.042 1037.75 Q162.987 1042.33 157.177 1042.33 Q151.366 1042.33 148.288 1037.75 Q145.232 1033.14 145.232 1024.41 Q145.232 1015.66 148.288 1011.08 Q151.366 1006.47 157.177 1006.47 Z\" fill=\"#000000\" fill-rule=\"nonzero\" fill-opacity=\"1\" /><path clip-path=\"url(#clip620)\" d=\"M187.338 1010.18 Q183.727 1010.18 181.899 1013.74 Q180.093 1017.28 180.093 1024.41 Q180.093 1031.52 181.899 1035.08 Q183.727 1038.63 187.338 1038.63 Q190.973 1038.63 192.778 1035.08 Q194.607 1031.52 194.607 1024.41 Q194.607 1017.28 192.778 1013.74 Q190.973 1010.18 187.338 1010.18 M187.338 1006.47 Q193.149 1006.47 196.204 1011.08 Q199.283 1015.66 199.283 1024.41 Q199.283 1033.14 196.204 1037.75 Q193.149 1042.33 187.338 1042.33 Q181.528 1042.33 178.45 1037.75 Q175.394 1033.14 175.394 1024.41 Q175.394 1015.66 178.45 1011.08 Q181.528 1006.47 187.338 1006.47 Z\" fill=\"#000000\" fill-rule=\"nonzero\" fill-opacity=\"1\" /><path clip-path=\"url(#clip620)\" d=\"M131.181 842.016 Q134.538 842.734 136.413 845.002 Q138.311 847.271 138.311 850.604 Q138.311 855.72 134.792 858.521 Q131.274 861.322 124.793 861.322 Q122.617 861.322 120.302 860.882 Q118.01 860.465 115.556 859.609 L115.556 855.095 Q117.501 856.229 119.816 856.808 Q122.13 857.386 124.654 857.386 Q129.052 857.386 131.343 855.65 Q133.658 853.914 133.658 850.604 Q133.658 847.548 131.505 845.835 Q129.376 844.099 125.556 844.099 L121.529 844.099 L121.529 840.257 L125.742 840.257 Q129.191 840.257 131.019 838.891 Q132.848 837.502 132.848 834.91 Q132.848 832.248 130.95 830.836 Q129.075 829.4 125.556 829.4 Q123.635 829.4 121.436 829.817 Q119.237 830.234 116.598 831.113 L116.598 826.947 Q119.26 826.206 121.575 825.836 Q123.913 825.465 125.973 825.465 Q131.297 825.465 134.399 827.896 Q137.501 830.303 137.501 834.424 Q137.501 837.294 135.857 839.285 Q134.214 841.252 131.181 842.016 Z\" fill=\"#000000\" fill-rule=\"nonzero\" fill-opacity=\"1\" /><path clip-path=\"url(#clip620)\" d=\"M157.177 829.169 Q153.566 829.169 151.737 832.734 Q149.931 836.275 149.931 843.405 Q149.931 850.511 151.737 854.076 Q153.566 857.618 157.177 857.618 Q160.811 857.618 162.616 854.076 Q164.445 850.511 164.445 843.405 Q164.445 836.275 162.616 832.734 Q160.811 829.169 157.177 829.169 M157.177 825.465 Q162.987 825.465 166.042 830.072 Q169.121 834.655 169.121 843.405 Q169.121 852.132 166.042 856.738 Q162.987 861.322 157.177 861.322 Q151.366 861.322 148.288 856.738 Q145.232 852.132 145.232 843.405 Q145.232 834.655 148.288 830.072 Q151.366 825.465 157.177 825.465 Z\" fill=\"#000000\" fill-rule=\"nonzero\" fill-opacity=\"1\" /><path clip-path=\"url(#clip620)\" d=\"M187.338 829.169 Q183.727 829.169 181.899 832.734 Q180.093 836.275 180.093 843.405 Q180.093 850.511 181.899 854.076 Q183.727 857.618 187.338 857.618 Q190.973 857.618 192.778 854.076 Q194.607 850.511 194.607 843.405 Q194.607 836.275 192.778 832.734 Q190.973 829.169 187.338 829.169 M187.338 825.465 Q193.149 825.465 196.204 830.072 Q199.283 834.655 199.283 843.405 Q199.283 852.132 196.204 856.738 Q193.149 861.322 187.338 861.322 Q181.528 861.322 178.45 856.738 Q175.394 852.132 175.394 843.405 Q175.394 834.655 178.45 830.072 Q181.528 825.465 187.338 825.465 Z\" fill=\"#000000\" fill-rule=\"nonzero\" fill-opacity=\"1\" /><path clip-path=\"url(#clip620)\" d=\"M129.862 649.156 L118.056 667.605 L129.862 667.605 L129.862 649.156 M128.635 645.082 L134.515 645.082 L134.515 667.605 L139.445 667.605 L139.445 671.494 L134.515 671.494 L134.515 679.642 L129.862 679.642 L129.862 671.494 L114.26 671.494 L114.26 666.98 L128.635 645.082 Z\" fill=\"#000000\" fill-rule=\"nonzero\" fill-opacity=\"1\" /><path clip-path=\"url(#clip620)\" d=\"M157.177 648.16 Q153.566 648.16 151.737 651.725 Q149.931 655.267 149.931 662.396 Q149.931 669.503 151.737 673.068 Q153.566 676.609 157.177 676.609 Q160.811 676.609 162.616 673.068 Q164.445 669.503 164.445 662.396 Q164.445 655.267 162.616 651.725 Q160.811 648.16 157.177 648.16 M157.177 644.457 Q162.987 644.457 166.042 649.063 Q169.121 653.647 169.121 662.396 Q169.121 671.123 166.042 675.73 Q162.987 680.313 157.177 680.313 Q151.366 680.313 148.288 675.73 Q145.232 671.123 145.232 662.396 Q145.232 653.647 148.288 649.063 Q151.366 644.457 157.177 644.457 Z\" fill=\"#000000\" fill-rule=\"nonzero\" fill-opacity=\"1\" /><path clip-path=\"url(#clip620)\" d=\"M187.338 648.16 Q183.727 648.16 181.899 651.725 Q180.093 655.267 180.093 662.396 Q180.093 669.503 181.899 673.068 Q183.727 676.609 187.338 676.609 Q190.973 676.609 192.778 673.068 Q194.607 669.503 194.607 662.396 Q194.607 655.267 192.778 651.725 Q190.973 648.16 187.338 648.16 M187.338 644.457 Q193.149 644.457 196.204 649.063 Q199.283 653.647 199.283 662.396 Q199.283 671.123 196.204 675.73 Q193.149 680.313 187.338 680.313 Q181.528 680.313 178.45 675.73 Q175.394 671.123 175.394 662.396 Q175.394 653.647 178.45 649.063 Q181.528 644.457 187.338 644.457 Z\" fill=\"#000000\" fill-rule=\"nonzero\" fill-opacity=\"1\" /><path clip-path=\"url(#clip620)\" d=\"M117.061 464.073 L135.417 464.073 L135.417 468.008 L121.343 468.008 L121.343 476.481 Q122.362 476.133 123.38 475.971 Q124.399 475.786 125.418 475.786 Q131.205 475.786 134.584 478.957 Q137.964 482.129 137.964 487.545 Q137.964 493.124 134.492 496.226 Q131.019 499.305 124.7 499.305 Q122.524 499.305 120.255 498.934 Q118.01 498.564 115.603 497.823 L115.603 493.124 Q117.686 494.258 119.908 494.814 Q122.13 495.369 124.607 495.369 Q128.612 495.369 130.95 493.263 Q133.288 491.156 133.288 487.545 Q133.288 483.934 130.95 481.828 Q128.612 479.721 124.607 479.721 Q122.732 479.721 120.857 480.138 Q119.006 480.555 117.061 481.434 L117.061 464.073 Z\" fill=\"#000000\" fill-rule=\"nonzero\" fill-opacity=\"1\" /><path clip-path=\"url(#clip620)\" d=\"M157.177 467.152 Q153.566 467.152 151.737 470.717 Q149.931 474.258 149.931 481.388 Q149.931 488.494 151.737 492.059 Q153.566 495.601 157.177 495.601 Q160.811 495.601 162.616 492.059 Q164.445 488.494 164.445 481.388 Q164.445 474.258 162.616 470.717 Q160.811 467.152 157.177 467.152 M157.177 463.448 Q162.987 463.448 166.042 468.055 Q169.121 472.638 169.121 481.388 Q169.121 490.115 166.042 494.721 Q162.987 499.305 157.177 499.305 Q151.366 499.305 148.288 494.721 Q145.232 490.115 145.232 481.388 Q145.232 472.638 148.288 468.055 Q151.366 463.448 157.177 463.448 Z\" fill=\"#000000\" fill-rule=\"nonzero\" fill-opacity=\"1\" /><path clip-path=\"url(#clip620)\" d=\"M187.338 467.152 Q183.727 467.152 181.899 470.717 Q180.093 474.258 180.093 481.388 Q180.093 488.494 181.899 492.059 Q183.727 495.601 187.338 495.601 Q190.973 495.601 192.778 492.059 Q194.607 488.494 194.607 481.388 Q194.607 474.258 192.778 470.717 Q190.973 467.152 187.338 467.152 M187.338 463.448 Q193.149 463.448 196.204 468.055 Q199.283 472.638 199.283 481.388 Q199.283 490.115 196.204 494.721 Q193.149 499.305 187.338 499.305 Q181.528 499.305 178.45 494.721 Q175.394 490.115 175.394 481.388 Q175.394 472.638 178.45 468.055 Q181.528 463.448 187.338 463.448 Z\" fill=\"#000000\" fill-rule=\"nonzero\" fill-opacity=\"1\" /><path clip-path=\"url(#clip620)\" d=\"M127.593 298.481 Q124.445 298.481 122.593 300.634 Q120.765 302.787 120.765 306.537 Q120.765 310.264 122.593 312.44 Q124.445 314.592 127.593 314.592 Q130.742 314.592 132.57 312.44 Q134.422 310.264 134.422 306.537 Q134.422 302.787 132.57 300.634 Q130.742 298.481 127.593 298.481 M136.876 283.829 L136.876 288.088 Q135.117 287.255 133.311 286.815 Q131.529 286.375 129.769 286.375 Q125.14 286.375 122.686 289.5 Q120.255 292.625 119.908 298.944 Q121.274 296.93 123.334 295.866 Q125.394 294.778 127.871 294.778 Q133.08 294.778 136.089 297.949 Q139.121 301.097 139.121 306.537 Q139.121 311.861 135.973 315.079 Q132.825 318.296 127.593 318.296 Q121.598 318.296 118.427 313.713 Q115.256 309.106 115.256 300.38 Q115.256 292.185 119.144 287.324 Q123.033 282.44 129.584 282.44 Q131.343 282.44 133.126 282.787 Q134.931 283.134 136.876 283.829 Z\" fill=\"#000000\" fill-rule=\"nonzero\" fill-opacity=\"1\" /><path clip-path=\"url(#clip620)\" d=\"M157.177 286.143 Q153.566 286.143 151.737 289.708 Q149.931 293.25 149.931 300.38 Q149.931 307.486 151.737 311.051 Q153.566 314.592 157.177 314.592 Q160.811 314.592 162.616 311.051 Q164.445 307.486 164.445 300.38 Q164.445 293.25 162.616 289.708 Q160.811 286.143 157.177 286.143 M157.177 282.44 Q162.987 282.44 166.042 287.046 Q169.121 291.63 169.121 300.38 Q169.121 309.106 166.042 313.713 Q162.987 318.296 157.177 318.296 Q151.366 318.296 148.288 313.713 Q145.232 309.106 145.232 300.38 Q145.232 291.63 148.288 287.046 Q151.366 282.44 157.177 282.44 Z\" fill=\"#000000\" fill-rule=\"nonzero\" fill-opacity=\"1\" /><path clip-path=\"url(#clip620)\" d=\"M187.338 286.143 Q183.727 286.143 181.899 289.708 Q180.093 293.25 180.093 300.38 Q180.093 307.486 181.899 311.051 Q183.727 314.592 187.338 314.592 Q190.973 314.592 192.778 311.051 Q194.607 307.486 194.607 300.38 Q194.607 293.25 192.778 289.708 Q190.973 286.143 187.338 286.143 M187.338 282.44 Q193.149 282.44 196.204 287.046 Q199.283 291.63 199.283 300.38 Q199.283 309.106 196.204 313.713 Q193.149 318.296 187.338 318.296 Q181.528 318.296 178.45 313.713 Q175.394 309.106 175.394 300.38 Q175.394 291.63 178.45 287.046 Q181.528 282.44 187.338 282.44 Z\" fill=\"#000000\" fill-rule=\"nonzero\" fill-opacity=\"1\" /><path clip-path=\"url(#clip620)\" d=\"M28.3562 786.837 L28.3562 759.019 L33.7034 759.019 L59.3254 781.044 L59.3254 759.019 L64.0042 759.019 L64.0042 787.633 L58.657 787.633 L33.035 765.608 L33.035 786.837 L28.3562 786.837 Z\" fill=\"#000000\" fill-rule=\"nonzero\" fill-opacity=\"1\" /><path clip-path=\"url(#clip620)\" d=\"M831.001 14.0809 L831.001 22.0612 Q826.342 19.8332 822.211 18.7395 Q818.079 17.6457 814.23 17.6457 Q807.546 17.6457 803.9 20.2383 Q800.295 22.8309 800.295 27.611 Q800.295 31.6214 802.685 33.6873 Q805.116 35.7128 811.84 36.9686 L816.782 37.9813 Q825.937 39.7232 830.272 44.1387 Q834.647 48.5136 834.647 55.8863 Q834.647 64.6767 828.733 69.2137 Q822.859 73.7508 811.476 73.7508 Q807.182 73.7508 802.321 72.7785 Q797.5 71.8063 792.315 69.9024 L792.315 61.4765 Q797.298 64.2716 802.078 65.6895 Q806.858 67.1073 811.476 67.1073 Q818.484 67.1073 822.292 64.3527 Q826.099 61.598 826.099 56.4939 Q826.099 52.0379 823.345 49.5264 Q820.631 47.0148 814.392 45.759 L809.41 44.7868 Q800.255 42.9639 796.163 39.075 Q792.072 35.1862 792.072 28.2591 Q792.072 20.2383 797.703 15.6203 Q803.374 11.0023 813.299 11.0023 Q817.552 11.0023 821.968 11.7719 Q826.383 12.5416 831.001 14.0809 Z\" fill=\"#000000\" fill-rule=\"nonzero\" fill-opacity=\"1\" /><path clip-path=\"url(#clip620)\" d=\"M864.664 32.4315 Q858.669 32.4315 855.185 37.1306 Q851.701 41.7891 851.701 49.9314 Q851.701 58.0738 855.144 62.7728 Q858.628 67.4314 864.664 67.4314 Q870.619 67.4314 874.103 62.7323 Q877.586 58.0333 877.586 49.9314 Q877.586 41.8701 874.103 37.1711 Q870.619 32.4315 864.664 32.4315 M864.664 26.1121 Q874.386 26.1121 879.936 32.4315 Q885.486 38.7509 885.486 49.9314 Q885.486 61.0714 879.936 67.4314 Q874.386 73.7508 864.664 73.7508 Q854.901 73.7508 849.352 67.4314 Q843.842 61.0714 843.842 49.9314 Q843.842 38.7509 849.352 32.4315 Q854.901 26.1121 864.664 26.1121 Z\" fill=\"#000000\" fill-rule=\"nonzero\" fill-opacity=\"1\" /><path clip-path=\"url(#clip620)\" d=\"M897.841 9.54393 L905.295 9.54393 L905.295 72.576 L897.841 72.576 L897.841 9.54393 Z\" fill=\"#000000\" fill-rule=\"nonzero\" fill-opacity=\"1\" /><path clip-path=\"url(#clip620)\" d=\"M941.51 49.7694 Q932.476 49.7694 928.992 51.8354 Q925.509 53.9013 925.509 58.8839 Q925.509 62.8538 928.101 65.2034 Q930.734 67.5124 935.231 67.5124 Q941.429 67.5124 945.156 63.1374 Q948.923 58.7219 948.923 51.4303 L948.923 49.7694 L941.51 49.7694 M956.377 46.6907 L956.377 72.576 L948.923 72.576 L948.923 65.6895 Q946.371 69.8214 942.563 71.8063 Q938.755 73.7508 933.246 73.7508 Q926.278 73.7508 922.146 69.8619 Q918.055 65.9325 918.055 59.3701 Q918.055 51.7138 923.159 47.825 Q928.304 43.9361 938.472 43.9361 L948.923 43.9361 L948.923 43.2069 Q948.923 38.0623 945.52 35.2672 Q942.158 32.4315 936.041 32.4315 Q932.152 32.4315 928.466 33.3632 Q924.779 34.295 921.377 36.1584 L921.377 29.2718 Q925.468 27.692 929.316 26.9223 Q933.165 26.1121 936.811 26.1121 Q946.654 26.1121 951.515 31.2163 Q956.377 36.3204 956.377 46.6907 Z\" fill=\"#000000\" fill-rule=\"nonzero\" fill-opacity=\"1\" /><path clip-path=\"url(#clip620)\" d=\"M998.02 34.1734 Q996.764 33.4443 995.265 33.1202 Q993.807 32.7556 992.024 32.7556 Q985.705 32.7556 982.302 36.8875 Q978.94 40.9789 978.94 48.6757 L978.94 72.576 L971.446 72.576 L971.446 27.2059 L978.94 27.2059 L978.94 34.2544 Q981.29 30.1225 985.057 28.1376 Q988.824 26.1121 994.212 26.1121 Q994.982 26.1121 995.913 26.2337 Q996.845 26.3147 997.979 26.5172 L998.02 34.1734 Z\" fill=\"#000000\" fill-rule=\"nonzero\" fill-opacity=\"1\" /><path clip-path=\"url(#clip620)\" d=\"M1068.79 14.0809 L1068.79 22.0612 Q1064.13 19.8332 1060 18.7395 Q1055.87 17.6457 1052.02 17.6457 Q1045.33 17.6457 1041.69 20.2383 Q1038.08 22.8309 1038.08 27.611 Q1038.08 31.6214 1040.47 33.6873 Q1042.9 35.7128 1049.63 36.9686 L1054.57 37.9813 Q1063.73 39.7232 1068.06 44.1387 Q1072.43 48.5136 1072.43 55.8863 Q1072.43 64.6767 1066.52 69.2137 Q1060.65 73.7508 1049.26 73.7508 Q1044.97 73.7508 1040.11 72.7785 Q1035.29 71.8063 1030.1 69.9024 L1030.1 61.4765 Q1035.09 64.2716 1039.87 65.6895 Q1044.65 67.1073 1049.26 67.1073 Q1056.27 67.1073 1060.08 64.3527 Q1063.89 61.598 1063.89 56.4939 Q1063.89 52.0379 1061.13 49.5264 Q1058.42 47.0148 1052.18 45.759 L1047.2 44.7868 Q1038.04 42.9639 1033.95 39.075 Q1029.86 35.1862 1029.86 28.2591 Q1029.86 20.2383 1035.49 15.6203 Q1041.16 11.0023 1051.09 11.0023 Q1055.34 11.0023 1059.76 11.7719 Q1064.17 12.5416 1068.79 14.0809 Z\" fill=\"#000000\" fill-rule=\"nonzero\" fill-opacity=\"1\" /><path clip-path=\"url(#clip620)\" d=\"M1105.49 49.7694 Q1096.46 49.7694 1092.97 51.8354 Q1089.49 53.9013 1089.49 58.8839 Q1089.49 62.8538 1092.08 65.2034 Q1094.71 67.5124 1099.21 67.5124 Q1105.41 67.5124 1109.14 63.1374 Q1112.9 58.7219 1112.9 51.4303 L1112.9 49.7694 L1105.49 49.7694 M1120.36 46.6907 L1120.36 72.576 L1112.9 72.576 L1112.9 65.6895 Q1110.35 69.8214 1106.54 71.8063 Q1102.74 73.7508 1097.23 73.7508 Q1090.26 73.7508 1086.13 69.8619 Q1082.04 65.9325 1082.04 59.3701 Q1082.04 51.7138 1087.14 47.825 Q1092.28 43.9361 1102.45 43.9361 L1112.9 43.9361 L1112.9 43.2069 Q1112.9 38.0623 1109.5 35.2672 Q1106.14 32.4315 1100.02 32.4315 Q1096.13 32.4315 1092.45 33.3632 Q1088.76 34.295 1085.36 36.1584 L1085.36 29.2718 Q1089.45 27.692 1093.3 26.9223 Q1097.15 26.1121 1100.79 26.1121 Q1110.63 26.1121 1115.5 31.2163 Q1120.36 36.3204 1120.36 46.6907 Z\" fill=\"#000000\" fill-rule=\"nonzero\" fill-opacity=\"1\" /><path clip-path=\"url(#clip620)\" d=\"M1135.71 27.2059 L1143.16 27.2059 L1143.16 72.576 L1135.71 72.576 L1135.71 27.2059 M1135.71 9.54393 L1143.16 9.54393 L1143.16 18.9825 L1135.71 18.9825 L1135.71 9.54393 Z\" fill=\"#000000\" fill-rule=\"nonzero\" fill-opacity=\"1\" /><path clip-path=\"url(#clip620)\" d=\"M1158.76 9.54393 L1166.21 9.54393 L1166.21 72.576 L1158.76 72.576 L1158.76 9.54393 Z\" fill=\"#000000\" fill-rule=\"nonzero\" fill-opacity=\"1\" /><path clip-path=\"url(#clip620)\" d=\"M1200.12 12.096 L1251.28 12.096 L1251.28 18.9825 L1229.81 18.9825 L1229.81 72.576 L1221.59 72.576 L1221.59 18.9825 L1200.12 18.9825 L1200.12 12.096 Z\" fill=\"#000000\" fill-rule=\"nonzero\" fill-opacity=\"1\" /><path clip-path=\"url(#clip620)\" d=\"M1296.57 45.1919 L1296.57 72.576 L1289.12 72.576 L1289.12 45.4349 Q1289.12 38.994 1286.61 35.7938 Q1284.09 32.5936 1279.07 32.5936 Q1273.04 32.5936 1269.55 36.4419 Q1266.07 40.2903 1266.07 46.9338 L1266.07 72.576 L1258.57 72.576 L1258.57 9.54393 L1266.07 9.54393 L1266.07 34.2544 Q1268.74 30.163 1272.35 28.1376 Q1275.99 26.1121 1280.73 26.1121 Q1288.55 26.1121 1292.56 30.9732 Q1296.57 35.7938 1296.57 45.1919 Z\" fill=\"#000000\" fill-rule=\"nonzero\" fill-opacity=\"1\" /><path clip-path=\"url(#clip620)\" d=\"M1337.73 34.1734 Q1336.47 33.4443 1334.97 33.1202 Q1333.52 32.7556 1331.73 32.7556 Q1325.41 32.7556 1322.01 36.8875 Q1318.65 40.9789 1318.65 48.6757 L1318.65 72.576 L1311.15 72.576 L1311.15 27.2059 L1318.65 27.2059 L1318.65 34.2544 Q1321 30.1225 1324.77 28.1376 Q1328.53 26.1121 1333.92 26.1121 Q1334.69 26.1121 1335.62 26.2337 Q1336.55 26.3147 1337.69 26.5172 L1337.73 34.1734 Z\" fill=\"#000000\" fill-rule=\"nonzero\" fill-opacity=\"1\" /><path clip-path=\"url(#clip620)\" d=\"M1344.78 54.671 L1344.78 27.2059 L1352.23 27.2059 L1352.23 54.3874 Q1352.23 60.8284 1354.74 64.0691 Q1357.25 67.2693 1362.28 67.2693 Q1368.31 67.2693 1371.8 63.421 Q1375.32 59.5726 1375.32 52.9291 L1375.32 27.2059 L1382.77 27.2059 L1382.77 72.576 L1375.32 72.576 L1375.32 65.6084 Q1372.61 69.7404 1369 71.7658 Q1365.44 73.7508 1360.7 73.7508 Q1352.88 73.7508 1348.83 68.8897 Q1344.78 64.0286 1344.78 54.671 M1363.53 26.1121 L1363.53 26.1121 Z\" fill=\"#000000\" fill-rule=\"nonzero\" fill-opacity=\"1\" /><path clip-path=\"url(#clip620)\" d=\"M1427.05 28.5427 L1427.05 35.5912 Q1423.89 33.9709 1420.49 33.1607 Q1417.09 32.3505 1413.44 32.3505 Q1407.89 32.3505 1405.1 34.0519 Q1402.34 35.7533 1402.34 39.156 Q1402.34 41.7486 1404.33 43.2475 Q1406.31 44.7058 1412.31 46.0426 L1414.86 46.6097 Q1422.8 48.3111 1426.12 51.4303 Q1429.48 54.509 1429.48 60.0587 Q1429.48 66.3781 1424.46 70.0644 Q1419.48 73.7508 1410.73 73.7508 Q1407.08 73.7508 1403.11 73.0216 Q1399.18 72.3329 1394.81 70.9151 L1394.81 63.2184 Q1398.94 65.3654 1402.95 66.4591 Q1406.96 67.5124 1410.89 67.5124 Q1416.15 67.5124 1418.99 65.73 Q1421.83 63.9071 1421.83 60.6258 Q1421.83 57.5877 1419.76 55.9673 Q1417.73 54.3469 1410.81 52.8481 L1408.21 52.2405 Q1401.29 50.7821 1398.21 47.7845 Q1395.13 44.7463 1395.13 39.4801 Q1395.13 33.0797 1399.67 29.5959 Q1404.2 26.1121 1412.55 26.1121 Q1416.68 26.1121 1420.33 26.7198 Q1423.97 27.3274 1427.05 28.5427 Z\" fill=\"#000000\" fill-rule=\"nonzero\" fill-opacity=\"1\" /><path clip-path=\"url(#clip620)\" d=\"M1448.72 14.324 L1448.72 27.2059 L1464.08 27.2059 L1464.08 32.9987 L1448.72 32.9987 L1448.72 57.6282 Q1448.72 63.1779 1450.22 64.7578 Q1451.76 66.3376 1456.42 66.3376 L1464.08 66.3376 L1464.08 72.576 L1456.42 72.576 Q1447.79 72.576 1444.51 69.3758 Q1441.23 66.1351 1441.23 57.6282 L1441.23 32.9987 L1435.76 32.9987 L1435.76 27.2059 L1441.23 27.2059 L1441.23 14.324 L1448.72 14.324 Z\" fill=\"#000000\" fill-rule=\"nonzero\" fill-opacity=\"1\" /><path clip-path=\"url(#clip620)\" d=\"M1516.17 72.576 L1493.08 12.096 L1501.63 12.096 L1520.79 63.0159 L1539.99 12.096 L1548.5 12.096 L1525.45 72.576 L1516.17 72.576 Z\" fill=\"#000000\" fill-rule=\"nonzero\" fill-opacity=\"1\" /><path clip-path=\"url(#clip620)\" d=\"M1589.37 48.0275 L1589.37 51.6733 L1555.1 51.6733 Q1555.59 59.3701 1559.72 63.421 Q1563.89 67.4314 1571.3 67.4314 Q1575.6 67.4314 1579.61 66.3781 Q1583.66 65.3249 1587.63 63.2184 L1587.63 70.267 Q1583.62 71.9684 1579.41 72.8596 Q1575.19 73.7508 1570.86 73.7508 Q1560 73.7508 1553.64 67.4314 Q1547.32 61.1119 1547.32 50.3365 Q1547.32 39.1965 1553.32 32.6746 Q1559.35 26.1121 1569.56 26.1121 Q1578.72 26.1121 1584.02 32.0264 Q1589.37 37.9003 1589.37 48.0275 M1581.92 45.84 Q1581.84 39.7232 1578.47 36.0774 Q1575.15 32.4315 1569.64 32.4315 Q1563.4 32.4315 1559.64 35.9558 Q1555.91 39.4801 1555.34 45.8805 L1581.92 45.84 Z\" fill=\"#000000\" fill-rule=\"nonzero\" fill-opacity=\"1\" /><path clip-path=\"url(#clip620)\" d=\"M1634.25 28.9478 L1634.25 35.9153 Q1631.1 34.1734 1627.89 33.3227 Q1624.74 32.4315 1621.49 32.4315 Q1614.24 32.4315 1610.23 37.0496 Q1606.22 41.6271 1606.22 49.9314 Q1606.22 58.2358 1610.23 62.8538 Q1614.24 67.4314 1621.49 67.4314 Q1624.74 67.4314 1627.89 66.5807 Q1631.1 65.6895 1634.25 63.9476 L1634.25 70.8341 Q1631.14 72.2924 1627.77 73.0216 Q1624.45 73.7508 1620.68 73.7508 Q1610.44 73.7508 1604.4 67.3098 Q1598.36 60.8689 1598.36 49.9314 Q1598.36 38.832 1604.44 32.472 Q1610.56 26.1121 1621.17 26.1121 Q1624.61 26.1121 1627.89 26.8413 Q1631.18 27.5299 1634.25 28.9478 Z\" fill=\"#000000\" fill-rule=\"nonzero\" fill-opacity=\"1\" /><path clip-path=\"url(#clip620)\" d=\"M1654.59 14.324 L1654.59 27.2059 L1669.94 27.2059 L1669.94 32.9987 L1654.59 32.9987 L1654.59 57.6282 Q1654.59 63.1779 1656.09 64.7578 Q1657.63 66.3376 1662.29 66.3376 L1669.94 66.3376 L1669.94 72.576 L1662.29 72.576 Q1653.66 72.576 1650.38 69.3758 Q1647.1 66.1351 1647.1 57.6282 L1647.1 32.9987 L1641.63 32.9987 L1641.63 27.2059 L1647.1 27.2059 L1647.1 14.324 L1654.59 14.324 Z\" fill=\"#000000\" fill-rule=\"nonzero\" fill-opacity=\"1\" /><path clip-path=\"url(#clip620)\" d=\"M1697.33 32.4315 Q1691.33 32.4315 1687.85 37.1306 Q1684.36 41.7891 1684.36 49.9314 Q1684.36 58.0738 1687.81 62.7728 Q1691.29 67.4314 1697.33 67.4314 Q1703.28 67.4314 1706.77 62.7323 Q1710.25 58.0333 1710.25 49.9314 Q1710.25 41.8701 1706.77 37.1711 Q1703.28 32.4315 1697.33 32.4315 M1697.33 26.1121 Q1707.05 26.1121 1712.6 32.4315 Q1718.15 38.7509 1718.15 49.9314 Q1718.15 61.0714 1712.6 67.4314 Q1707.05 73.7508 1697.33 73.7508 Q1687.56 73.7508 1682.01 67.4314 Q1676.51 61.0714 1676.51 49.9314 Q1676.51 38.7509 1682.01 32.4315 Q1687.56 26.1121 1697.33 26.1121 Z\" fill=\"#000000\" fill-rule=\"nonzero\" fill-opacity=\"1\" /><path clip-path=\"url(#clip620)\" d=\"M1756.79 34.1734 Q1755.54 33.4443 1754.04 33.1202 Q1752.58 32.7556 1750.8 32.7556 Q1744.48 32.7556 1741.08 36.8875 Q1737.71 40.9789 1737.71 48.6757 L1737.71 72.576 L1730.22 72.576 L1730.22 27.2059 L1737.71 27.2059 L1737.71 34.2544 Q1740.06 30.1225 1743.83 28.1376 Q1747.6 26.1121 1752.99 26.1121 Q1753.76 26.1121 1754.69 26.2337 Q1755.62 26.3147 1756.75 26.5172 L1756.79 34.1734 Z\" fill=\"#000000\" fill-rule=\"nonzero\" fill-opacity=\"1\" /><path clip-path=\"url(#clip620)\" d=\"M1793.54 28.5427 L1793.54 35.5912 Q1790.38 33.9709 1786.97 33.1607 Q1783.57 32.3505 1779.93 32.3505 Q1774.38 32.3505 1771.58 34.0519 Q1768.83 35.7533 1768.83 39.156 Q1768.83 41.7486 1770.81 43.2475 Q1772.8 44.7058 1778.79 46.0426 L1781.34 46.6097 Q1789.28 48.3111 1792.6 51.4303 Q1795.97 54.509 1795.97 60.0587 Q1795.97 66.3781 1790.94 70.0644 Q1785.96 73.7508 1777.21 73.7508 Q1773.57 73.7508 1769.6 73.0216 Q1765.67 72.3329 1761.29 70.9151 L1761.29 63.2184 Q1765.42 65.3654 1769.43 66.4591 Q1773.44 67.5124 1777.37 67.5124 Q1782.64 67.5124 1785.48 65.73 Q1788.31 63.9071 1788.31 60.6258 Q1788.31 57.5877 1786.24 55.9673 Q1784.22 54.3469 1777.29 52.8481 L1774.7 52.2405 Q1767.77 50.7821 1764.69 47.7845 Q1761.62 44.7463 1761.62 39.4801 Q1761.62 33.0797 1766.15 29.5959 Q1770.69 26.1121 1779.03 26.1121 Q1783.17 26.1121 1786.81 26.7198 Q1790.46 27.3274 1793.54 28.5427 Z\" fill=\"#000000\" fill-rule=\"nonzero\" fill-opacity=\"1\" /><circle clip-path=\"url(#clip622)\" cx=\"1294.02\" cy=\"1386.4\" r=\"14.4\" fill=\"#009af9\" fill-rule=\"evenodd\" fill-opacity=\"1\" stroke=\"#000000\" stroke-opacity=\"1\" stroke-width=\"3.2\"/>\n",
       "<circle clip-path=\"url(#clip622)\" cx=\"1295.25\" cy=\"1386.36\" r=\"14.4\" fill=\"#009af9\" fill-rule=\"evenodd\" fill-opacity=\"1\" stroke=\"#000000\" stroke-opacity=\"1\" stroke-width=\"3.2\"/>\n",
       "<circle clip-path=\"url(#clip622)\" cx=\"1298.94\" cy=\"1386.08\" r=\"14.4\" fill=\"#009af9\" fill-rule=\"evenodd\" fill-opacity=\"1\" stroke=\"#000000\" stroke-opacity=\"1\" stroke-width=\"3.2\"/>\n",
       "<circle clip-path=\"url(#clip622)\" cx=\"1305.05\" cy=\"1385.34\" r=\"14.4\" fill=\"#009af9\" fill-rule=\"evenodd\" fill-opacity=\"1\" stroke=\"#000000\" stroke-opacity=\"1\" stroke-width=\"3.2\"/>\n",
       "<circle clip-path=\"url(#clip622)\" cx=\"1313.52\" cy=\"1383.91\" r=\"14.4\" fill=\"#009af9\" fill-rule=\"evenodd\" fill-opacity=\"1\" stroke=\"#000000\" stroke-opacity=\"1\" stroke-width=\"3.2\"/>\n",
       "<circle clip-path=\"url(#clip622)\" cx=\"1324.26\" cy=\"1381.56\" r=\"14.4\" fill=\"#009af9\" fill-rule=\"evenodd\" fill-opacity=\"1\" stroke=\"#000000\" stroke-opacity=\"1\" stroke-width=\"3.2\"/>\n",
       "<circle clip-path=\"url(#clip622)\" cx=\"1337.16\" cy=\"1378.08\" r=\"14.4\" fill=\"#009af9\" fill-rule=\"evenodd\" fill-opacity=\"1\" stroke=\"#000000\" stroke-opacity=\"1\" stroke-width=\"3.2\"/>\n",
       "<circle clip-path=\"url(#clip622)\" cx=\"1352.09\" cy=\"1373.28\" r=\"14.4\" fill=\"#009af9\" fill-rule=\"evenodd\" fill-opacity=\"1\" stroke=\"#000000\" stroke-opacity=\"1\" stroke-width=\"3.2\"/>\n",
       "<circle clip-path=\"url(#clip622)\" cx=\"1368.91\" cy=\"1366.96\" r=\"14.4\" fill=\"#009af9\" fill-rule=\"evenodd\" fill-opacity=\"1\" stroke=\"#000000\" stroke-opacity=\"1\" stroke-width=\"3.2\"/>\n",
       "<circle clip-path=\"url(#clip622)\" cx=\"1387.44\" cy=\"1358.97\" r=\"14.4\" fill=\"#009af9\" fill-rule=\"evenodd\" fill-opacity=\"1\" stroke=\"#000000\" stroke-opacity=\"1\" stroke-width=\"3.2\"/>\n",
       "<circle clip-path=\"url(#clip622)\" cx=\"1407.48\" cy=\"1349.13\" r=\"14.4\" fill=\"#009af9\" fill-rule=\"evenodd\" fill-opacity=\"1\" stroke=\"#000000\" stroke-opacity=\"1\" stroke-width=\"3.2\"/>\n",
       "<circle clip-path=\"url(#clip622)\" cx=\"1428.85\" cy=\"1337.32\" r=\"14.4\" fill=\"#009af9\" fill-rule=\"evenodd\" fill-opacity=\"1\" stroke=\"#000000\" stroke-opacity=\"1\" stroke-width=\"3.2\"/>\n",
       "<circle clip-path=\"url(#clip622)\" cx=\"1451.32\" cy=\"1323.42\" r=\"14.4\" fill=\"#009af9\" fill-rule=\"evenodd\" fill-opacity=\"1\" stroke=\"#000000\" stroke-opacity=\"1\" stroke-width=\"3.2\"/>\n",
       "<circle clip-path=\"url(#clip622)\" cx=\"1474.65\" cy=\"1307.34\" r=\"14.4\" fill=\"#009af9\" fill-rule=\"evenodd\" fill-opacity=\"1\" stroke=\"#000000\" stroke-opacity=\"1\" stroke-width=\"3.2\"/>\n",
       "<circle clip-path=\"url(#clip622)\" cx=\"1498.61\" cy=\"1289.01\" r=\"14.4\" fill=\"#009af9\" fill-rule=\"evenodd\" fill-opacity=\"1\" stroke=\"#000000\" stroke-opacity=\"1\" stroke-width=\"3.2\"/>\n",
       "<circle clip-path=\"url(#clip622)\" cx=\"1522.94\" cy=\"1268.38\" r=\"14.4\" fill=\"#009af9\" fill-rule=\"evenodd\" fill-opacity=\"1\" stroke=\"#000000\" stroke-opacity=\"1\" stroke-width=\"3.2\"/>\n",
       "<circle clip-path=\"url(#clip622)\" cx=\"1547.39\" cy=\"1245.42\" r=\"14.4\" fill=\"#009af9\" fill-rule=\"evenodd\" fill-opacity=\"1\" stroke=\"#000000\" stroke-opacity=\"1\" stroke-width=\"3.2\"/>\n",
       "<circle clip-path=\"url(#clip622)\" cx=\"1571.71\" cy=\"1220.14\" r=\"14.4\" fill=\"#009af9\" fill-rule=\"evenodd\" fill-opacity=\"1\" stroke=\"#000000\" stroke-opacity=\"1\" stroke-width=\"3.2\"/>\n",
       "<circle clip-path=\"url(#clip622)\" cx=\"1595.63\" cy=\"1192.56\" r=\"14.4\" fill=\"#009af9\" fill-rule=\"evenodd\" fill-opacity=\"1\" stroke=\"#000000\" stroke-opacity=\"1\" stroke-width=\"3.2\"/>\n",
       "<circle clip-path=\"url(#clip622)\" cx=\"1618.9\" cy=\"1162.73\" r=\"14.4\" fill=\"#009af9\" fill-rule=\"evenodd\" fill-opacity=\"1\" stroke=\"#000000\" stroke-opacity=\"1\" stroke-width=\"3.2\"/>\n",
       "<circle clip-path=\"url(#clip622)\" cx=\"1641.25\" cy=\"1130.73\" r=\"14.4\" fill=\"#009af9\" fill-rule=\"evenodd\" fill-opacity=\"1\" stroke=\"#000000\" stroke-opacity=\"1\" stroke-width=\"3.2\"/>\n",
       "<circle clip-path=\"url(#clip622)\" cx=\"1662.45\" cy=\"1096.66\" r=\"14.4\" fill=\"#009af9\" fill-rule=\"evenodd\" fill-opacity=\"1\" stroke=\"#000000\" stroke-opacity=\"1\" stroke-width=\"3.2\"/>\n",
       "<circle clip-path=\"url(#clip622)\" cx=\"1682.25\" cy=\"1060.63\" r=\"14.4\" fill=\"#009af9\" fill-rule=\"evenodd\" fill-opacity=\"1\" stroke=\"#000000\" stroke-opacity=\"1\" stroke-width=\"3.2\"/>\n",
       "<circle clip-path=\"url(#clip622)\" cx=\"1700.43\" cy=\"1022.79\" r=\"14.4\" fill=\"#009af9\" fill-rule=\"evenodd\" fill-opacity=\"1\" stroke=\"#000000\" stroke-opacity=\"1\" stroke-width=\"3.2\"/>\n",
       "<circle clip-path=\"url(#clip622)\" cx=\"1716.77\" cy=\"983.307\" r=\"14.4\" fill=\"#009af9\" fill-rule=\"evenodd\" fill-opacity=\"1\" stroke=\"#000000\" stroke-opacity=\"1\" stroke-width=\"3.2\"/>\n",
       "<circle clip-path=\"url(#clip622)\" cx=\"1731.06\" cy=\"942.364\" r=\"14.4\" fill=\"#009af9\" fill-rule=\"evenodd\" fill-opacity=\"1\" stroke=\"#000000\" stroke-opacity=\"1\" stroke-width=\"3.2\"/>\n",
       "<circle clip-path=\"url(#clip622)\" cx=\"1743.13\" cy=\"900.165\" r=\"14.4\" fill=\"#009af9\" fill-rule=\"evenodd\" fill-opacity=\"1\" stroke=\"#000000\" stroke-opacity=\"1\" stroke-width=\"3.2\"/>\n",
       "<circle clip-path=\"url(#clip622)\" cx=\"1752.8\" cy=\"856.93\" r=\"14.4\" fill=\"#009af9\" fill-rule=\"evenodd\" fill-opacity=\"1\" stroke=\"#000000\" stroke-opacity=\"1\" stroke-width=\"3.2\"/>\n",
       "<circle clip-path=\"url(#clip622)\" cx=\"1759.94\" cy=\"812.894\" r=\"14.4\" fill=\"#009af9\" fill-rule=\"evenodd\" fill-opacity=\"1\" stroke=\"#000000\" stroke-opacity=\"1\" stroke-width=\"3.2\"/>\n",
       "<circle clip-path=\"url(#clip622)\" cx=\"1764.41\" cy=\"768.304\" r=\"14.4\" fill=\"#009af9\" fill-rule=\"evenodd\" fill-opacity=\"1\" stroke=\"#000000\" stroke-opacity=\"1\" stroke-width=\"3.2\"/>\n",
       "<circle clip-path=\"url(#clip622)\" cx=\"1766.12\" cy=\"723.418\" r=\"14.4\" fill=\"#009af9\" fill-rule=\"evenodd\" fill-opacity=\"1\" stroke=\"#000000\" stroke-opacity=\"1\" stroke-width=\"3.2\"/>\n",
       "<circle clip-path=\"url(#clip622)\" cx=\"1764.99\" cy=\"678.505\" r=\"14.4\" fill=\"#009af9\" fill-rule=\"evenodd\" fill-opacity=\"1\" stroke=\"#000000\" stroke-opacity=\"1\" stroke-width=\"3.2\"/>\n",
       "<circle clip-path=\"url(#clip622)\" cx=\"1760.96\" cy=\"633.838\" r=\"14.4\" fill=\"#009af9\" fill-rule=\"evenodd\" fill-opacity=\"1\" stroke=\"#000000\" stroke-opacity=\"1\" stroke-width=\"3.2\"/>\n",
       "<circle clip-path=\"url(#clip622)\" cx=\"1754\" cy=\"589.694\" r=\"14.4\" fill=\"#009af9\" fill-rule=\"evenodd\" fill-opacity=\"1\" stroke=\"#000000\" stroke-opacity=\"1\" stroke-width=\"3.2\"/>\n",
       "<circle clip-path=\"url(#clip622)\" cx=\"1744.1\" cy=\"546.352\" r=\"14.4\" fill=\"#009af9\" fill-rule=\"evenodd\" fill-opacity=\"1\" stroke=\"#000000\" stroke-opacity=\"1\" stroke-width=\"3.2\"/>\n",
       "<circle clip-path=\"url(#clip622)\" cx=\"1731.3\" cy=\"504.091\" r=\"14.4\" fill=\"#009af9\" fill-rule=\"evenodd\" fill-opacity=\"1\" stroke=\"#000000\" stroke-opacity=\"1\" stroke-width=\"3.2\"/>\n",
       "<circle clip-path=\"url(#clip622)\" cx=\"1715.64\" cy=\"463.185\" r=\"14.4\" fill=\"#009af9\" fill-rule=\"evenodd\" fill-opacity=\"1\" stroke=\"#000000\" stroke-opacity=\"1\" stroke-width=\"3.2\"/>\n",
       "<circle clip-path=\"url(#clip622)\" cx=\"1697.18\" cy=\"423.904\" r=\"14.4\" fill=\"#009af9\" fill-rule=\"evenodd\" fill-opacity=\"1\" stroke=\"#000000\" stroke-opacity=\"1\" stroke-width=\"3.2\"/>\n",
       "<circle clip-path=\"url(#clip622)\" cx=\"1676.02\" cy=\"386.509\" r=\"14.4\" fill=\"#009af9\" fill-rule=\"evenodd\" fill-opacity=\"1\" stroke=\"#000000\" stroke-opacity=\"1\" stroke-width=\"3.2\"/>\n",
       "<circle clip-path=\"url(#clip622)\" cx=\"1652.29\" cy=\"351.253\" r=\"14.4\" fill=\"#009af9\" fill-rule=\"evenodd\" fill-opacity=\"1\" stroke=\"#000000\" stroke-opacity=\"1\" stroke-width=\"3.2\"/>\n",
       "<circle clip-path=\"url(#clip622)\" cx=\"1626.11\" cy=\"318.373\" r=\"14.4\" fill=\"#009af9\" fill-rule=\"evenodd\" fill-opacity=\"1\" stroke=\"#000000\" stroke-opacity=\"1\" stroke-width=\"3.2\"/>\n",
       "<circle clip-path=\"url(#clip622)\" cx=\"1597.67\" cy=\"288.094\" r=\"14.4\" fill=\"#009af9\" fill-rule=\"evenodd\" fill-opacity=\"1\" stroke=\"#000000\" stroke-opacity=\"1\" stroke-width=\"3.2\"/>\n",
       "<circle clip-path=\"url(#clip622)\" cx=\"1567.13\" cy=\"260.625\" r=\"14.4\" fill=\"#009af9\" fill-rule=\"evenodd\" fill-opacity=\"1\" stroke=\"#000000\" stroke-opacity=\"1\" stroke-width=\"3.2\"/>\n",
       "<circle clip-path=\"url(#clip622)\" cx=\"1534.7\" cy=\"236.154\" r=\"14.4\" fill=\"#009af9\" fill-rule=\"evenodd\" fill-opacity=\"1\" stroke=\"#000000\" stroke-opacity=\"1\" stroke-width=\"3.2\"/>\n",
       "<circle clip-path=\"url(#clip622)\" cx=\"1500.59\" cy=\"214.853\" r=\"14.4\" fill=\"#009af9\" fill-rule=\"evenodd\" fill-opacity=\"1\" stroke=\"#000000\" stroke-opacity=\"1\" stroke-width=\"3.2\"/>\n",
       "<circle clip-path=\"url(#clip622)\" cx=\"1465.05\" cy=\"196.868\" r=\"14.4\" fill=\"#009af9\" fill-rule=\"evenodd\" fill-opacity=\"1\" stroke=\"#000000\" stroke-opacity=\"1\" stroke-width=\"3.2\"/>\n",
       "<circle clip-path=\"url(#clip622)\" cx=\"1428.3\" cy=\"182.327\" r=\"14.4\" fill=\"#009af9\" fill-rule=\"evenodd\" fill-opacity=\"1\" stroke=\"#000000\" stroke-opacity=\"1\" stroke-width=\"3.2\"/>\n",
       "<circle clip-path=\"url(#clip622)\" cx=\"1390.62\" cy=\"171.331\" r=\"14.4\" fill=\"#009af9\" fill-rule=\"evenodd\" fill-opacity=\"1\" stroke=\"#000000\" stroke-opacity=\"1\" stroke-width=\"3.2\"/>\n",
       "<circle clip-path=\"url(#clip622)\" cx=\"1352.25\" cy=\"163.956\" r=\"14.4\" fill=\"#009af9\" fill-rule=\"evenodd\" fill-opacity=\"1\" stroke=\"#000000\" stroke-opacity=\"1\" stroke-width=\"3.2\"/>\n",
       "<circle clip-path=\"url(#clip622)\" cx=\"1313.48\" cy=\"160.256\" r=\"14.4\" fill=\"#009af9\" fill-rule=\"evenodd\" fill-opacity=\"1\" stroke=\"#000000\" stroke-opacity=\"1\" stroke-width=\"3.2\"/>\n",
       "<circle clip-path=\"url(#clip622)\" cx=\"1274.56\" cy=\"160.256\" r=\"14.4\" fill=\"#009af9\" fill-rule=\"evenodd\" fill-opacity=\"1\" stroke=\"#000000\" stroke-opacity=\"1\" stroke-width=\"3.2\"/>\n",
       "<circle clip-path=\"url(#clip622)\" cx=\"1235.79\" cy=\"163.956\" r=\"14.4\" fill=\"#009af9\" fill-rule=\"evenodd\" fill-opacity=\"1\" stroke=\"#000000\" stroke-opacity=\"1\" stroke-width=\"3.2\"/>\n",
       "<circle clip-path=\"url(#clip622)\" cx=\"1197.42\" cy=\"171.331\" r=\"14.4\" fill=\"#009af9\" fill-rule=\"evenodd\" fill-opacity=\"1\" stroke=\"#000000\" stroke-opacity=\"1\" stroke-width=\"3.2\"/>\n",
       "<circle clip-path=\"url(#clip622)\" cx=\"1159.74\" cy=\"182.327\" r=\"14.4\" fill=\"#009af9\" fill-rule=\"evenodd\" fill-opacity=\"1\" stroke=\"#000000\" stroke-opacity=\"1\" stroke-width=\"3.2\"/>\n",
       "<circle clip-path=\"url(#clip622)\" cx=\"1122.99\" cy=\"196.868\" r=\"14.4\" fill=\"#009af9\" fill-rule=\"evenodd\" fill-opacity=\"1\" stroke=\"#000000\" stroke-opacity=\"1\" stroke-width=\"3.2\"/>\n",
       "<circle clip-path=\"url(#clip622)\" cx=\"1087.44\" cy=\"214.853\" r=\"14.4\" fill=\"#009af9\" fill-rule=\"evenodd\" fill-opacity=\"1\" stroke=\"#000000\" stroke-opacity=\"1\" stroke-width=\"3.2\"/>\n",
       "<circle clip-path=\"url(#clip622)\" cx=\"1053.34\" cy=\"236.154\" r=\"14.4\" fill=\"#009af9\" fill-rule=\"evenodd\" fill-opacity=\"1\" stroke=\"#000000\" stroke-opacity=\"1\" stroke-width=\"3.2\"/>\n",
       "<circle clip-path=\"url(#clip622)\" cx=\"1020.91\" cy=\"260.625\" r=\"14.4\" fill=\"#009af9\" fill-rule=\"evenodd\" fill-opacity=\"1\" stroke=\"#000000\" stroke-opacity=\"1\" stroke-width=\"3.2\"/>\n",
       "<circle clip-path=\"url(#clip622)\" cx=\"990.372\" cy=\"288.094\" r=\"14.4\" fill=\"#009af9\" fill-rule=\"evenodd\" fill-opacity=\"1\" stroke=\"#000000\" stroke-opacity=\"1\" stroke-width=\"3.2\"/>\n",
       "<circle clip-path=\"url(#clip622)\" cx=\"961.925\" cy=\"318.373\" r=\"14.4\" fill=\"#009af9\" fill-rule=\"evenodd\" fill-opacity=\"1\" stroke=\"#000000\" stroke-opacity=\"1\" stroke-width=\"3.2\"/>\n",
       "<circle clip-path=\"url(#clip622)\" cx=\"935.753\" cy=\"351.253\" r=\"14.4\" fill=\"#009af9\" fill-rule=\"evenodd\" fill-opacity=\"1\" stroke=\"#000000\" stroke-opacity=\"1\" stroke-width=\"3.2\"/>\n",
       "<circle clip-path=\"url(#clip622)\" cx=\"912.018\" cy=\"386.509\" r=\"14.4\" fill=\"#009af9\" fill-rule=\"evenodd\" fill-opacity=\"1\" stroke=\"#000000\" stroke-opacity=\"1\" stroke-width=\"3.2\"/>\n",
       "<circle clip-path=\"url(#clip622)\" cx=\"890.862\" cy=\"423.904\" r=\"14.4\" fill=\"#009af9\" fill-rule=\"evenodd\" fill-opacity=\"1\" stroke=\"#000000\" stroke-opacity=\"1\" stroke-width=\"3.2\"/>\n",
       "<circle clip-path=\"url(#clip622)\" cx=\"872.403\" cy=\"463.185\" r=\"14.4\" fill=\"#009af9\" fill-rule=\"evenodd\" fill-opacity=\"1\" stroke=\"#000000\" stroke-opacity=\"1\" stroke-width=\"3.2\"/>\n",
       "<circle clip-path=\"url(#clip622)\" cx=\"856.737\" cy=\"504.091\" r=\"14.4\" fill=\"#009af9\" fill-rule=\"evenodd\" fill-opacity=\"1\" stroke=\"#000000\" stroke-opacity=\"1\" stroke-width=\"3.2\"/>\n",
       "<circle clip-path=\"url(#clip622)\" cx=\"843.935\" cy=\"546.352\" r=\"14.4\" fill=\"#009af9\" fill-rule=\"evenodd\" fill-opacity=\"1\" stroke=\"#000000\" stroke-opacity=\"1\" stroke-width=\"3.2\"/>\n",
       "<circle clip-path=\"url(#clip622)\" cx=\"834.043\" cy=\"589.694\" r=\"14.4\" fill=\"#009af9\" fill-rule=\"evenodd\" fill-opacity=\"1\" stroke=\"#000000\" stroke-opacity=\"1\" stroke-width=\"3.2\"/>\n",
       "<circle clip-path=\"url(#clip622)\" cx=\"827.083\" cy=\"633.838\" r=\"14.4\" fill=\"#009af9\" fill-rule=\"evenodd\" fill-opacity=\"1\" stroke=\"#000000\" stroke-opacity=\"1\" stroke-width=\"3.2\"/>\n",
       "<circle clip-path=\"url(#clip622)\" cx=\"823.05\" cy=\"678.505\" r=\"14.4\" fill=\"#009af9\" fill-rule=\"evenodd\" fill-opacity=\"1\" stroke=\"#000000\" stroke-opacity=\"1\" stroke-width=\"3.2\"/>\n",
       "<circle clip-path=\"url(#clip622)\" cx=\"821.915\" cy=\"723.418\" r=\"14.4\" fill=\"#009af9\" fill-rule=\"evenodd\" fill-opacity=\"1\" stroke=\"#000000\" stroke-opacity=\"1\" stroke-width=\"3.2\"/>\n",
       "<circle clip-path=\"url(#clip622)\" cx=\"823.624\" cy=\"768.304\" r=\"14.4\" fill=\"#009af9\" fill-rule=\"evenodd\" fill-opacity=\"1\" stroke=\"#000000\" stroke-opacity=\"1\" stroke-width=\"3.2\"/>\n",
       "<circle clip-path=\"url(#clip622)\" cx=\"828.098\" cy=\"812.894\" r=\"14.4\" fill=\"#009af9\" fill-rule=\"evenodd\" fill-opacity=\"1\" stroke=\"#000000\" stroke-opacity=\"1\" stroke-width=\"3.2\"/>\n",
       "<circle clip-path=\"url(#clip622)\" cx=\"835.235\" cy=\"856.93\" r=\"14.4\" fill=\"#009af9\" fill-rule=\"evenodd\" fill-opacity=\"1\" stroke=\"#000000\" stroke-opacity=\"1\" stroke-width=\"3.2\"/>\n",
       "<circle clip-path=\"url(#clip622)\" cx=\"844.91\" cy=\"900.165\" r=\"14.4\" fill=\"#009af9\" fill-rule=\"evenodd\" fill-opacity=\"1\" stroke=\"#000000\" stroke-opacity=\"1\" stroke-width=\"3.2\"/>\n",
       "<circle clip-path=\"url(#clip622)\" cx=\"856.978\" cy=\"942.364\" r=\"14.4\" fill=\"#009af9\" fill-rule=\"evenodd\" fill-opacity=\"1\" stroke=\"#000000\" stroke-opacity=\"1\" stroke-width=\"3.2\"/>\n",
       "<circle clip-path=\"url(#clip622)\" cx=\"871.272\" cy=\"983.307\" r=\"14.4\" fill=\"#009af9\" fill-rule=\"evenodd\" fill-opacity=\"1\" stroke=\"#000000\" stroke-opacity=\"1\" stroke-width=\"3.2\"/>\n",
       "<circle clip-path=\"url(#clip622)\" cx=\"887.609\" cy=\"1022.79\" r=\"14.4\" fill=\"#009af9\" fill-rule=\"evenodd\" fill-opacity=\"1\" stroke=\"#000000\" stroke-opacity=\"1\" stroke-width=\"3.2\"/>\n",
       "<circle clip-path=\"url(#clip622)\" cx=\"905.786\" cy=\"1060.63\" r=\"14.4\" fill=\"#009af9\" fill-rule=\"evenodd\" fill-opacity=\"1\" stroke=\"#000000\" stroke-opacity=\"1\" stroke-width=\"3.2\"/>\n",
       "<circle clip-path=\"url(#clip622)\" cx=\"925.588\" cy=\"1096.66\" r=\"14.4\" fill=\"#009af9\" fill-rule=\"evenodd\" fill-opacity=\"1\" stroke=\"#000000\" stroke-opacity=\"1\" stroke-width=\"3.2\"/>\n",
       "<circle clip-path=\"url(#clip622)\" cx=\"946.787\" cy=\"1130.73\" r=\"14.4\" fill=\"#009af9\" fill-rule=\"evenodd\" fill-opacity=\"1\" stroke=\"#000000\" stroke-opacity=\"1\" stroke-width=\"3.2\"/>\n",
       "<circle clip-path=\"url(#clip622)\" cx=\"969.143\" cy=\"1162.73\" r=\"14.4\" fill=\"#009af9\" fill-rule=\"evenodd\" fill-opacity=\"1\" stroke=\"#000000\" stroke-opacity=\"1\" stroke-width=\"3.2\"/>\n",
       "<circle clip-path=\"url(#clip622)\" cx=\"992.408\" cy=\"1192.56\" r=\"14.4\" fill=\"#009af9\" fill-rule=\"evenodd\" fill-opacity=\"1\" stroke=\"#000000\" stroke-opacity=\"1\" stroke-width=\"3.2\"/>\n",
       "<circle clip-path=\"url(#clip622)\" cx=\"1016.33\" cy=\"1220.14\" r=\"14.4\" fill=\"#009af9\" fill-rule=\"evenodd\" fill-opacity=\"1\" stroke=\"#000000\" stroke-opacity=\"1\" stroke-width=\"3.2\"/>\n",
       "<circle clip-path=\"url(#clip622)\" cx=\"1040.64\" cy=\"1245.42\" r=\"14.4\" fill=\"#009af9\" fill-rule=\"evenodd\" fill-opacity=\"1\" stroke=\"#000000\" stroke-opacity=\"1\" stroke-width=\"3.2\"/>\n",
       "<circle clip-path=\"url(#clip622)\" cx=\"1065.1\" cy=\"1268.38\" r=\"14.4\" fill=\"#009af9\" fill-rule=\"evenodd\" fill-opacity=\"1\" stroke=\"#000000\" stroke-opacity=\"1\" stroke-width=\"3.2\"/>\n",
       "<circle clip-path=\"url(#clip622)\" cx=\"1089.43\" cy=\"1289.01\" r=\"14.4\" fill=\"#009af9\" fill-rule=\"evenodd\" fill-opacity=\"1\" stroke=\"#000000\" stroke-opacity=\"1\" stroke-width=\"3.2\"/>\n",
       "<circle clip-path=\"url(#clip622)\" cx=\"1113.39\" cy=\"1307.34\" r=\"14.4\" fill=\"#009af9\" fill-rule=\"evenodd\" fill-opacity=\"1\" stroke=\"#000000\" stroke-opacity=\"1\" stroke-width=\"3.2\"/>\n",
       "<circle clip-path=\"url(#clip622)\" cx=\"1136.72\" cy=\"1323.42\" r=\"14.4\" fill=\"#009af9\" fill-rule=\"evenodd\" fill-opacity=\"1\" stroke=\"#000000\" stroke-opacity=\"1\" stroke-width=\"3.2\"/>\n",
       "<circle clip-path=\"url(#clip622)\" cx=\"1159.19\" cy=\"1337.32\" r=\"14.4\" fill=\"#009af9\" fill-rule=\"evenodd\" fill-opacity=\"1\" stroke=\"#000000\" stroke-opacity=\"1\" stroke-width=\"3.2\"/>\n",
       "<circle clip-path=\"url(#clip622)\" cx=\"1180.55\" cy=\"1349.13\" r=\"14.4\" fill=\"#009af9\" fill-rule=\"evenodd\" fill-opacity=\"1\" stroke=\"#000000\" stroke-opacity=\"1\" stroke-width=\"3.2\"/>\n",
       "<circle clip-path=\"url(#clip622)\" cx=\"1200.6\" cy=\"1358.97\" r=\"14.4\" fill=\"#009af9\" fill-rule=\"evenodd\" fill-opacity=\"1\" stroke=\"#000000\" stroke-opacity=\"1\" stroke-width=\"3.2\"/>\n",
       "<circle clip-path=\"url(#clip622)\" cx=\"1219.13\" cy=\"1366.96\" r=\"14.4\" fill=\"#009af9\" fill-rule=\"evenodd\" fill-opacity=\"1\" stroke=\"#000000\" stroke-opacity=\"1\" stroke-width=\"3.2\"/>\n",
       "<circle clip-path=\"url(#clip622)\" cx=\"1235.95\" cy=\"1373.28\" r=\"14.4\" fill=\"#009af9\" fill-rule=\"evenodd\" fill-opacity=\"1\" stroke=\"#000000\" stroke-opacity=\"1\" stroke-width=\"3.2\"/>\n",
       "<circle clip-path=\"url(#clip622)\" cx=\"1250.88\" cy=\"1378.08\" r=\"14.4\" fill=\"#009af9\" fill-rule=\"evenodd\" fill-opacity=\"1\" stroke=\"#000000\" stroke-opacity=\"1\" stroke-width=\"3.2\"/>\n",
       "<circle clip-path=\"url(#clip622)\" cx=\"1263.78\" cy=\"1381.56\" r=\"14.4\" fill=\"#009af9\" fill-rule=\"evenodd\" fill-opacity=\"1\" stroke=\"#000000\" stroke-opacity=\"1\" stroke-width=\"3.2\"/>\n",
       "<circle clip-path=\"url(#clip622)\" cx=\"1274.52\" cy=\"1383.91\" r=\"14.4\" fill=\"#009af9\" fill-rule=\"evenodd\" fill-opacity=\"1\" stroke=\"#000000\" stroke-opacity=\"1\" stroke-width=\"3.2\"/>\n",
       "<circle clip-path=\"url(#clip622)\" cx=\"1282.99\" cy=\"1385.34\" r=\"14.4\" fill=\"#009af9\" fill-rule=\"evenodd\" fill-opacity=\"1\" stroke=\"#000000\" stroke-opacity=\"1\" stroke-width=\"3.2\"/>\n",
       "<circle clip-path=\"url(#clip622)\" cx=\"1289.1\" cy=\"1386.08\" r=\"14.4\" fill=\"#009af9\" fill-rule=\"evenodd\" fill-opacity=\"1\" stroke=\"#000000\" stroke-opacity=\"1\" stroke-width=\"3.2\"/>\n",
       "<circle clip-path=\"url(#clip622)\" cx=\"1292.79\" cy=\"1386.36\" r=\"14.4\" fill=\"#009af9\" fill-rule=\"evenodd\" fill-opacity=\"1\" stroke=\"#000000\" stroke-opacity=\"1\" stroke-width=\"3.2\"/>\n",
       "<circle clip-path=\"url(#clip622)\" cx=\"1294.02\" cy=\"1386.4\" r=\"14.4\" fill=\"#009af9\" fill-rule=\"evenodd\" fill-opacity=\"1\" stroke=\"#000000\" stroke-opacity=\"1\" stroke-width=\"3.2\"/>\n",
       "</svg>\n"
      ]
     },
     "metadata": {},
     "output_type": "display_data"
    }
   ],
   "source": [
    "scatter([all_ssail_ctrl[2,:]], [all_ssail_ctrl[3,:]], aspectratio = 1, legend=false)\n",
    "\n",
    "title!(\"Solar Sail Thrust Vectors\")\n",
    "xlabel!(\"y\")\n",
    "ylabel!(\"z\")"
   ]
  },
  {
   "cell_type": "code",
   "execution_count": 23,
   "metadata": {},
   "outputs": [
    {
     "data": {
      "text/plain": [
       "100-element Vector{Float64}:\n",
       " 0.0\n",
       " 0.0\n",
       " 0.0\n",
       " 0.0\n",
       " 0.0\n",
       " 0.0\n",
       " 0.0\n",
       " 0.0\n",
       " 0.0\n",
       " 0.0\n",
       " ⋮\n",
       " 0.0\n",
       " 0.0\n",
       " 0.0\n",
       " 0.0\n",
       " 0.0\n",
       " 0.0\n",
       " 0.0\n",
       " 0.0\n",
       " 0.0"
      ]
     },
     "metadata": {},
     "output_type": "display_data"
    }
   ],
   "source": [
    "all_predictions = zeros(N_samples)"
   ]
  },
  {
   "cell_type": "code",
   "execution_count": 24,
   "metadata": {},
   "outputs": [
    {
     "data": {
      "text/plain": [
       "predictions (generic function with 1 method)"
      ]
     },
     "metadata": {},
     "output_type": "display_data"
    }
   ],
   "source": [
    "#compute prediction \n",
    "\n",
    "#x is the current initial guess for the ellipsoid parameters and \n",
    "# samples is all the points in the nonlinear control set\n",
    "\n",
    "#samples size 2xN_samples\n",
    "\n",
    "function predictions(x, samples)\n",
    "\n",
    "    all_predictions = zeros(eltype(x), N_samples)\n",
    "\n",
    "    y0 = x[1]\n",
    "    z0 = x[2]\n",
    "    a2 = x[3]^2\n",
    "    b2 = x[4]^2\n",
    "\n",
    "    for i=1:N_samples\n",
    "\n",
    "        y = samples[1, i]\n",
    "        z = samples[2, i]\n",
    "\n",
    "        zeta0 = (y-y0)^2 /a2\n",
    "        zeta1 = (z-z0)^2 /b2\n",
    "\n",
    "        all_predictions[i] = zeta0+zeta1\n",
    "\n",
    "    end\n",
    "\n",
    "    return all_predictions\n",
    "end"
   ]
  },
  {
   "cell_type": "code",
   "execution_count": null,
   "metadata": {},
   "outputs": [
    {
     "data": {
      "text/plain": [
       "100-element Vector{Float64}:\n",
       " 1.0\n",
       " 0.9998790974196323\n",
       " 0.9990888034149584\n",
       " 0.9971148616088562\n",
       " 0.993611610301725\n",
       " 0.9883966188752508\n",
       " 0.9814405497933301\n",
       " 0.9728527316382858\n",
       " 0.9628630565317167\n",
       " 0.9518009210898172\n",
       " ⋮\n",
       " 0.9628630565317167\n",
       " 0.9728527316382859\n",
       " 0.9814405497933301\n",
       " 0.9883966188752508\n",
       " 0.993611610301725\n",
       " 0.9971148616088559\n",
       " 0.9990888034149584\n",
       " 0.9998790974196323\n",
       " 1.0"
      ]
     },
     "metadata": {},
     "output_type": "display_data"
    }
   ],
   "source": [
    "#intitial guess\n",
    "test = [0, gamma/2, 521/2, gamma/2]\n",
    "\n",
    "#test the residual function \n",
    "rez = predictions(test, all_ssail_ctrl[2:3, :])"
   ]
  },
  {
   "cell_type": "code",
   "execution_count": 26,
   "metadata": {},
   "outputs": [
    {
     "data": {
      "text/plain": [
       "loss (generic function with 1 method)"
      ]
     },
     "metadata": {},
     "output_type": "display_data"
    }
   ],
   "source": [
    "#this is the \"algebraic distance\"\n",
    "function loss(x)\n",
    "\n",
    "    loss = zeros(eltype(x),1)\n",
    "\n",
    "    pred = zeros(eltype(x), N_samples)\n",
    "    \n",
    "    pred = predictions(x, all_ssail_ctrl[2:3, :])\n",
    "\n",
    "    target = ones(N_samples)\n",
    "\n",
    "    loss = (1/N_samples)*(sum((pred - target).^2))\n",
    "\n",
    "    return loss\n",
    "\n",
    "end"
   ]
  },
  {
   "cell_type": "code",
   "execution_count": 27,
   "metadata": {},
   "outputs": [
    {
     "data": {
      "text/plain": [
       "1.0e-12"
      ]
     },
     "metadata": {},
     "output_type": "display_data"
    }
   ],
   "source": [
    "#initial guess \n",
    "x_iter = test \n",
    "\n",
    "#number of iterations\n",
    "N_iterations = 1000\n",
    "\n",
    "#tolerance\n",
    "tol = 1e-12"
   ]
  },
  {
   "cell_type": "code",
   "execution_count": null,
   "metadata": {},
   "outputs": [
    {
     "data": {
      "text/plain": [
       "1000-element Vector{Float64}:\n",
       " 0.0\n",
       " 0.0\n",
       " 0.0\n",
       " 0.0\n",
       " 0.0\n",
       " 0.0\n",
       " 0.0\n",
       " 0.0\n",
       " 0.0\n",
       " 0.0\n",
       " ⋮\n",
       " 0.0\n",
       " 0.0\n",
       " 0.0\n",
       " 0.0\n",
       " 0.0\n",
       " 0.0\n",
       " 0.0\n",
       " 0.0\n",
       " 0.0"
      ]
     },
     "metadata": {},
     "output_type": "display_data"
    }
   ],
   "source": [
    "#save the norm of the jacobian\n",
    "#when the norm is zero, we solved the problem \n",
    "all_norm_jac = zeros(N_iterations)"
   ]
  },
  {
   "cell_type": "code",
   "execution_count": null,
   "metadata": {},
   "outputs": [],
   "source": [
    "#Newton's method\n",
    "for i = 1:N_iterations\n",
    "\n",
    "    jac = ForwardDiff.gradient(dx->loss(dx), x_iter)\n",
    "\n",
    "    hessian = ForwardDiff.hessian(dx->loss(dx), x_iter)\n",
    "\n",
    "    Δx = -hessian\\jac\n",
    "    \n",
    "    x_iter += Δx\n",
    "\n",
    "    all_norm_jac[i] = norm(jac)\n",
    "\n",
    "    #println(\"Norm of jacobian: \", all_norm_jac)\n",
    "\n",
    "    if(norm(jac) < tol)\n",
    "\n",
    "        println(\"solved\")\n",
    "\n",
    "        break\n",
    "\n",
    "    end\n",
    "\n",
    "end"
   ]
  }
 ],
 "metadata": {
  "kernelspec": {
   "display_name": "Julia 1.10.0",
   "language": "julia",
   "name": "julia-1.10"
  },
  "language_info": {
   "file_extension": ".jl",
   "mimetype": "application/julia",
   "name": "julia",
   "version": "1.10.0"
  }
 },
 "nbformat": 4,
 "nbformat_minor": 2
}
